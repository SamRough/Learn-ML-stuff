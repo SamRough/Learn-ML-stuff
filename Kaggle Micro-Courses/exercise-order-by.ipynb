{
 "cells": [
  {
   "cell_type": "markdown",
   "metadata": {
    "_uuid": "bc6e40a81ffc17ec32a9207f740d7f7013953555"
   },
   "source": [
    "**[SQL Micro-Course Home Page](https://www.kaggle.com/learn/SQL)**\n",
    "\n",
    "---\n"
   ]
  },
  {
   "cell_type": "markdown",
   "metadata": {
    "_uuid": "75bbab5aef92f723e94f1941d7f447e2496e99e6"
   },
   "source": [
    "# Introduction\n",
    "\n",
    "You've built up your SQL skills enough that the remaining hands-on exercises will use different datasets than you see in the explanations. If you need to familiarize with a new dataset, you can run a couple of `SELECT` queries to extract and review the data you need. \n",
    "\n",
    "The next exercises are also more challenging than what you've done so far. Don't worry, you are ready for it.\n",
    "\n",
    "Run the code in the following cell to get everything set up:"
   ]
  },
  {
   "cell_type": "code",
   "execution_count": 1,
   "metadata": {
    "_uuid": "70552a8c1dc8c397c18dee83c88a507ae89e5e77"
   },
   "outputs": [
    {
     "name": "stdout",
     "output_type": "stream",
     "text": [
      "Using Kaggle's public dataset BigQuery integration.\n"
     ]
    }
   ],
   "source": [
    "# Set up feedack system\n",
    "from learntools.core import binder\n",
    "binder.bind(globals())\n",
    "from learntools.sql.ex4 import *\n",
    "\n",
    "# import package with helper functions \n",
    "import bq_helper\n",
    "\n",
    "# create a helper object for this dataset\n",
    "education_data = bq_helper.BigQueryHelper(active_project=\"bigquery-public-data\",\n",
    "                                          dataset_name=\"world_bank_intl_education\")"
   ]
  },
  {
   "cell_type": "markdown",
   "metadata": {
    "_uuid": "32d5b4482870bd998121e9b6c1e44c8b52ad64f0"
   },
   "source": [
    "Then write the code to answer the questions below."
   ]
  },
  {
   "cell_type": "markdown",
   "metadata": {
    "_uuid": "ae98426c7e189f9dc24d7227f2c9e295d985f66c"
   },
   "source": [
    "# Questions\n",
    "\n",
    "## 1) Which countries spend the largest fraction of GDP on education?\n",
    "\n",
    "The World Bank has made tons of interesting education data available through BigQuery. Run the following cell to see the first few rows of the table."
   ]
  },
  {
   "cell_type": "code",
   "execution_count": 2,
   "metadata": {
    "_uuid": "7b9e9c5d641e3459cfde3f464a19db1ecaa104e5"
   },
   "outputs": [
    {
     "data": {
      "text/html": [
       "<div>\n",
       "<style scoped>\n",
       "    .dataframe tbody tr th:only-of-type {\n",
       "        vertical-align: middle;\n",
       "    }\n",
       "\n",
       "    .dataframe tbody tr th {\n",
       "        vertical-align: top;\n",
       "    }\n",
       "\n",
       "    .dataframe thead th {\n",
       "        text-align: right;\n",
       "    }\n",
       "</style>\n",
       "<table border=\"1\" class=\"dataframe\">\n",
       "  <thead>\n",
       "    <tr style=\"text-align: right;\">\n",
       "      <th></th>\n",
       "      <th>country_name</th>\n",
       "      <th>country_code</th>\n",
       "      <th>indicator_name</th>\n",
       "      <th>indicator_code</th>\n",
       "      <th>year</th>\n",
       "      <th>value</th>\n",
       "    </tr>\n",
       "  </thead>\n",
       "  <tbody>\n",
       "    <tr>\n",
       "      <th>0</th>\n",
       "      <td>Angola</td>\n",
       "      <td>AGO</td>\n",
       "      <td>GDP per capita, PPP (constant 2011 internation...</td>\n",
       "      <td>NY.GDP.PCAP.PP.KD</td>\n",
       "      <td>1992</td>\n",
       "      <td>3.793646e+03</td>\n",
       "    </tr>\n",
       "    <tr>\n",
       "      <th>1</th>\n",
       "      <td>Turkey</td>\n",
       "      <td>TUR</td>\n",
       "      <td>Population, ages 7-12, total</td>\n",
       "      <td>SP.POP.0712.TO.UN</td>\n",
       "      <td>2000</td>\n",
       "      <td>8.194184e+06</td>\n",
       "    </tr>\n",
       "    <tr>\n",
       "      <th>2</th>\n",
       "      <td>Burkina Faso</td>\n",
       "      <td>BFA</td>\n",
       "      <td>Africa Dataset: Average number of pupils per r...</td>\n",
       "      <td>UIS.AFR.PBR.1.G3.PU.READ</td>\n",
       "      <td>2010</td>\n",
       "      <td>6.214100e-01</td>\n",
       "    </tr>\n",
       "    <tr>\n",
       "      <th>3</th>\n",
       "      <td>Chile</td>\n",
       "      <td>CHL</td>\n",
       "      <td>Adjusted net intake rate to Grade 1 of primary...</td>\n",
       "      <td>UIS.NIRA.1.M</td>\n",
       "      <td>2010</td>\n",
       "      <td>8.187383e+01</td>\n",
       "    </tr>\n",
       "    <tr>\n",
       "      <th>4</th>\n",
       "      <td>Sub-Saharan Africa</td>\n",
       "      <td>SSF</td>\n",
       "      <td>Percentage of students in upper secondary gene...</td>\n",
       "      <td>UIS.FEP.3.GPV</td>\n",
       "      <td>2010</td>\n",
       "      <td>4.475259e+01</td>\n",
       "    </tr>\n",
       "  </tbody>\n",
       "</table>\n",
       "</div>"
      ],
      "text/plain": [
       "         country_name country_code      ...       year         value\n",
       "0              Angola          AGO      ...       1992  3.793646e+03\n",
       "1              Turkey          TUR      ...       2000  8.194184e+06\n",
       "2        Burkina Faso          BFA      ...       2010  6.214100e-01\n",
       "3               Chile          CHL      ...       2010  8.187383e+01\n",
       "4  Sub-Saharan Africa          SSF      ...       2010  4.475259e+01\n",
       "\n",
       "[5 rows x 6 columns]"
      ]
     },
     "execution_count": 2,
     "metadata": {},
     "output_type": "execute_result"
    }
   ],
   "source": [
    "education_data.head('international_education')"
   ]
  },
  {
   "cell_type": "markdown",
   "metadata": {
    "_uuid": "a847bebc1930989f34e46c2b0c36c70cfb71379b"
   },
   "source": [
    "The indicator code describes what type of data is shown in a given row.  \n",
    "\n",
    "One interesting indicator code is `SE.XPD.TOTL.GD.ZS`. The name says this is `Government expenditure on education as % of GDP (%)`.\n",
    "\n",
    "Write a query to get a dataframe returning **average value of these rows for each country in the dataset between the years 2010-2017** (including 2010 and 2017 in the average). \n",
    "\n",
    "Requirements:\n",
    "- Your results should have the country name rather than the country code. You will have one row for each country.\n",
    "- The aggregation for an average is **AVG**.  Use the name `avg_ed_spending_pct` for the column created by this aggregation.\n",
    "- Order the results so the countries that spend the largest fraction of GDP on education show up first.\n",
    "\n",
    "In case it's useful to see a sample query, here's a query you saw in the tutorial (using a different database):\n",
    "```\n",
    "# query to find how many accidents happen each day of the week\n",
    "query = \"\"\"SELECT COUNT(consecutive_number) num_accidents, \n",
    "                  EXTRACT(DAYOFWEEK FROM timestamp_of_crash)\n",
    "            FROM `bigquery-public-data.nhtsa_traffic_fatalities.accident_2016`\n",
    "            GROUP BY EXTRACT(DAYOFWEEK FROM timestamp_of_crash)\n",
    "            ORDER BY COUNT(consecutive_number) DESC\n",
    "        \"\"\"\n",
    "accidents_by_day = accidents.query_to_pandas_safe(query)\n",
    "```"
   ]
  },
  {
   "cell_type": "code",
   "execution_count": 3,
   "metadata": {
    "_uuid": "f13e61ea74d1ad20a1480edf3543b1eb0cff50f5",
    "scrolled": true
   },
   "outputs": [
    {
     "name": "stdout",
     "output_type": "stream",
     "text": [
      "            country_name  avg_ed_spending_pct\n",
      "0                   Cuba            12.837270\n",
      "1  Micronesia, Fed. Sts.            12.467750\n",
      "2        Solomon Islands            10.001080\n",
      "3                Moldova             8.372153\n",
      "4                Namibia             8.349610\n",
      "    country_name  avg_ed_spending_pct\n",
      "106        Japan             3.646636\n"
     ]
    }
   ],
   "source": [
    "# Your Code Here\n",
    "\n",
    "country_spend_pct_query = \"\"\"\n",
    "SELECT country_name, AVG(value) avg_ed_spending_pct\n",
    "FROM `bigquery-public-data.world_bank_intl_education.international_education`\n",
    "WHERE indicator_code = 'SE.XPD.TOTL.GD.ZS' and year >= 2010 and year <= 2017\n",
    "GROUP BY country_name\n",
    "ORDER BY avg_ed_spending_pct DESC\n",
    "\"\"\"\n",
    "\n",
    "country_spending_results = education_data.query_to_pandas_safe(country_spend_pct_query)\n",
    "\n",
    "print(country_spending_results.head())\n",
    "print(country_spending_results.loc[country_spending_results['country_name'] == 'Japan'])\n",
    "#q_1.check()"
   ]
  },
  {
   "cell_type": "code",
   "execution_count": 4,
   "metadata": {
    "_uuid": "5c39e92bc4707f2917b50dc844472283ed7d9c1f"
   },
   "outputs": [
    {
     "data": {
      "application/javascript": [
       "parent.postMessage({\"jupyterEvent\": \"custom.exercise_interaction\", \"data\": {\"interactionType\": 2, \"learnTutorialId\": 80, \"questionId\": \"1_EducationSpending\", \"learnToolsVersion\": \"0.2.12\", \"valueTowardsCompletion\": 0.0, \"failureMessage\": \"\", \"exceptionClass\": \"\", \"trace\": \"\", \"outcomeType\": 4}}, \"*\")"
      ],
      "text/plain": [
       "<IPython.core.display.Javascript object>"
      ]
     },
     "metadata": {},
     "output_type": "display_data"
    },
    {
     "data": {
      "text/markdown": [
       "<span style=\"color:#3366cc\">Hint:</span> The part before `FROM` should be `SELECT country_name, AVG(value) avg_ed_spending_pct`"
      ],
      "text/plain": [
       "Hint: The part before `FROM` should be `SELECT country_name, AVG(value) avg_ed_spending_pct`"
      ]
     },
     "metadata": {},
     "output_type": "display_data"
    },
    {
     "data": {
      "application/javascript": [
       "parent.postMessage({\"jupyterEvent\": \"custom.exercise_interaction\", \"data\": {\"interactionType\": 3, \"learnTutorialId\": 80, \"questionId\": \"1_EducationSpending\", \"learnToolsVersion\": \"0.2.12\", \"valueTowardsCompletion\": 0.0, \"failureMessage\": \"\", \"exceptionClass\": \"\", \"trace\": \"\", \"outcomeType\": 4}}, \"*\")"
      ],
      "text/plain": [
       "<IPython.core.display.Javascript object>"
      ]
     },
     "metadata": {},
     "output_type": "display_data"
    },
    {
     "data": {
      "text/markdown": [
       "<span style=\"color:#33cc99\">Solution:</span> \n",
       "```python\n",
       "\n",
       "SELECT country_name, AVG(value) avg_ed_spending_pct\n",
       "FROM `bigquery-public-data.world_bank_intl_education.international_education`\n",
       "WHERE indicator_code = 'SE.XPD.TOTL.GD.ZS' and year >= 2010 and year <= 2017\n",
       "GROUP BY country_name\n",
       "ORDER BY avg_ed_spending_pct DESC\n",
       "\n",
       "```"
      ],
      "text/plain": [
       "Solution: \n",
       "```python\n",
       "\n",
       "SELECT country_name, AVG(value) avg_ed_spending_pct\n",
       "FROM `bigquery-public-data.world_bank_intl_education.international_education`\n",
       "WHERE indicator_code = 'SE.XPD.TOTL.GD.ZS' and year >= 2010 and year <= 2017\n",
       "GROUP BY country_name\n",
       "ORDER BY avg_ed_spending_pct DESC\n",
       "\n",
       "```"
      ]
     },
     "metadata": {},
     "output_type": "display_data"
    }
   ],
   "source": [
    "q_1.hint()\n",
    "q_1.solution()"
   ]
  },
  {
   "cell_type": "markdown",
   "metadata": {
    "_uuid": "82dcab58a549d27585f05045f1944b7fc28ca014"
   },
   "source": [
    "## 2) Identifying Interesting Codes to Explore\n",
    "The last question started by telling you to focus on rows with the code `SE.XPD.TOTL.GD.ZS`. But how would you find interesting indicator codes to explore?\n",
    "\n",
    "There are 1000s of codes in the dataset, so it would time consuming to review them all. But many codes are available for only a few countries. When browsing the options for different codes, you might restrict yourself to codes that are reported by many countries.\n",
    "\n",
    "Write the query below that selects the indicator code and indicator name for all codes with at least 175 rows in the year 2016.\n",
    "\n",
    "Requirements:\n",
    "- One row in your results per code\n",
    "- The columns in your results should be called `indicator_code`, `indicator_name` and `num_rows`.\n",
    "- Only select codes with 175 or more rows in the raw database (exactly 175 rows would be included).\n",
    "- To get both the `indicator_code` and `indicator_name` in your resulting DataFrame, you need to include both in your **SELECT** statement (in addition to a **COUNT** aggregation). This in turn requires you to include both in your **GROUP BY** clause.\n",
    "- Order results from most frequent to least frequent."
   ]
  },
  {
   "cell_type": "code",
   "execution_count": 5,
   "metadata": {
    "_uuid": "666922955f6462262c19b9abfa21bc6da44e5ea8"
   },
   "outputs": [
    {
     "name": "stdout",
     "output_type": "stream",
     "text": [
      "      indicator_code                   indicator_name  num_rows\n",
      "0        SP.POP.TOTL                Population, total       232\n",
      "1        SP.POP.GROW     Population growth (annual %)       232\n",
      "2     IT.NET.USER.P2  Internet users (per 100 people)       223\n",
      "3  SP.POP.TOTL.FE.ZS  Population, female (% of total)       213\n",
      "4     SP.POP.1564.TO    Population, ages 15-64, total       213\n"
     ]
    },
    {
     "data": {
      "application/javascript": [
       "parent.postMessage({\"jupyterEvent\": \"custom.exercise_interaction\", \"data\": {\"outcomeType\": 1, \"valueTowardsCompletion\": 0.5, \"interactionType\": 1, \"learnTutorialId\": 80, \"questionId\": \"2_FindInterestingCodes\", \"learnToolsVersion\": \"0.2.12\", \"failureMessage\": \"\", \"exceptionClass\": \"\", \"trace\": \"\"}}, \"*\")"
      ],
      "text/plain": [
       "<IPython.core.display.Javascript object>"
      ]
     },
     "metadata": {},
     "output_type": "display_data"
    },
    {
     "data": {
      "text/markdown": [
       "<span style=\"color:#33cc33\">Correct</span>"
      ],
      "text/plain": [
       "Correct"
      ]
     },
     "metadata": {},
     "output_type": "display_data"
    }
   ],
   "source": [
    "# Your Code Here\n",
    "code_count_query = \"\"\"\n",
    "                    SELECT indicator_code, indicator_name, COUNT(indicator_code) num_rows\n",
    "                    FROM `bigquery-public-data.world_bank_intl_education.international_education`\n",
    "                    WHERE year = 2016\n",
    "                    GROUP BY indicator_code, indicator_name\n",
    "                    HAVING COUNT(indicator_code) > 175\n",
    "                    ORDER BY COUNT(indicator_code) DESC\n",
    "                    \n",
    "\"\"\"\n",
    "\n",
    "code_count_results = education_data.query_to_pandas_safe(code_count_query)\n",
    "\n",
    "print(code_count_results.head())\n",
    "q_2.check()"
   ]
  },
  {
   "cell_type": "code",
   "execution_count": 6,
   "metadata": {
    "_uuid": "39ca0d49f9981ce33ea0cc847db1d55b240920a5"
   },
   "outputs": [
    {
     "data": {
      "application/javascript": [
       "parent.postMessage({\"jupyterEvent\": \"custom.exercise_interaction\", \"data\": {\"interactionType\": 2, \"learnTutorialId\": 80, \"questionId\": \"2_FindInterestingCodes\", \"learnToolsVersion\": \"0.2.12\", \"valueTowardsCompletion\": 0.0, \"failureMessage\": \"\", \"exceptionClass\": \"\", \"trace\": \"\", \"outcomeType\": 4}}, \"*\")"
      ],
      "text/plain": [
       "<IPython.core.display.Javascript object>"
      ]
     },
     "metadata": {},
     "output_type": "display_data"
    },
    {
     "data": {
      "text/markdown": [
       "<span style=\"color:#3366cc\">Hint:</span> The part before `FROM` is `SELECT indicator_code, indicator_name, COUNT(1) AS num_rows`"
      ],
      "text/plain": [
       "Hint: The part before `FROM` is `SELECT indicator_code, indicator_name, COUNT(1) AS num_rows`"
      ]
     },
     "metadata": {},
     "output_type": "display_data"
    },
    {
     "data": {
      "application/javascript": [
       "parent.postMessage({\"jupyterEvent\": \"custom.exercise_interaction\", \"data\": {\"interactionType\": 3, \"learnTutorialId\": 80, \"questionId\": \"2_FindInterestingCodes\", \"learnToolsVersion\": \"0.2.12\", \"valueTowardsCompletion\": 0.0, \"failureMessage\": \"\", \"exceptionClass\": \"\", \"trace\": \"\", \"outcomeType\": 4}}, \"*\")"
      ],
      "text/plain": [
       "<IPython.core.display.Javascript object>"
      ]
     },
     "metadata": {},
     "output_type": "display_data"
    },
    {
     "data": {
      "text/markdown": [
       "<span style=\"color:#33cc99\">Solution:</span> \n",
       "```python\n",
       "\n",
       "code_count_query = \"\"\"SELECT indicator_code, indicator_name, COUNT(1) AS num_rows\n",
       "            FROM `bigquery-public-data.world_bank_intl_education.international_education`\n",
       "            WHERE year = 2016\n",
       "            GROUP BY indicator_name, indicator_code\n",
       "            HAVING COUNT(1) >= 175\n",
       "            ORDER by COUNT(1) DESC\n",
       "        \"\"\"\n",
       "\n",
       "```"
      ],
      "text/plain": [
       "Solution: \n",
       "```python\n",
       "\n",
       "code_count_query = \"\"\"SELECT indicator_code, indicator_name, COUNT(1) AS num_rows\n",
       "            FROM `bigquery-public-data.world_bank_intl_education.international_education`\n",
       "            WHERE year = 2016\n",
       "            GROUP BY indicator_name, indicator_code\n",
       "            HAVING COUNT(1) >= 175\n",
       "            ORDER by COUNT(1) DESC\n",
       "        \"\"\"\n",
       "\n",
       "```"
      ]
     },
     "metadata": {},
     "output_type": "display_data"
    }
   ],
   "source": [
    "q_2.hint()\n",
    "q_2.solution()"
   ]
  },
  {
   "cell_type": "markdown",
   "metadata": {
    "_uuid": "3bd038d6b9e907b04e745dcff426fb8f9f0a9f38"
   },
   "source": [
    "---\n",
    "# Keep Going\n",
    "**[Click here](https://www.kaggle.com/dansbecker/as-with)** to learn how *WITH-AS* clauses  can clean up your code and help you construct more complex queries.\n"
   ]
  },
  {
   "cell_type": "markdown",
   "metadata": {
    "_uuid": "d0702dbed9ce5f194c3372fbdafb81f1f1488b90"
   },
   "source": [
    "---\n",
    "**[SQL Micro-Course Home Page](https://www.kaggle.com/learn/SQL)**\n",
    "\n"
   ]
  }
 ],
 "metadata": {
  "kernelspec": {
   "display_name": "Python 3",
   "language": "python",
   "name": "python3"
  },
  "language_info": {
   "codemirror_mode": {
    "name": "ipython",
    "version": 3
   },
   "file_extension": ".py",
   "mimetype": "text/x-python",
   "name": "python",
   "nbconvert_exporter": "python",
   "pygments_lexer": "ipython3",
   "version": "3.6.6"
  }
 },
 "nbformat": 4,
 "nbformat_minor": 1
}
