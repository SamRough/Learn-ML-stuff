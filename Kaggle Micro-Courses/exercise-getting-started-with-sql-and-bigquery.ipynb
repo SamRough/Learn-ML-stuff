{
 "cells": [
  {
   "cell_type": "markdown",
   "metadata": {
    "_uuid": "579198d1d15d0f5261969b5c8d99580e4eae20ff"
   },
   "source": [
    "**[SQL Micro-Course Home Page](https://www.kaggle.com/learn/SQL)**\n",
    "\n",
    "---\n"
   ]
  },
  {
   "cell_type": "markdown",
   "metadata": {
    "_uuid": "903a55196941092cb0d2c4b83120cf2f55fc3f0f"
   },
   "source": [
    "# Introduction\n",
    "\n",
    "The first test of your new data exploration skills uses a data describing crime in the city of Chicago.\n",
    "\n",
    "Before you get started, run the following cell. It sets up the automated feedback system to review your answers, and then it sets up the database helper object so you can connect to the database."
   ]
  },
  {
   "cell_type": "code",
   "execution_count": 1,
   "metadata": {
    "_uuid": "522c0f7903513841942077ba4a374f04fd889d99",
    "scrolled": true
   },
   "outputs": [
    {
     "name": "stdout",
     "output_type": "stream",
     "text": [
      "Using Kaggle's public dataset BigQuery integration.\n",
      "Setup Complete\n"
     ]
    }
   ],
   "source": [
    "# Set up feedack system\n",
    "from learntools.core import binder\n",
    "binder.bind(globals())\n",
    "from learntools.sql.ex1 import *\n",
    "\n",
    "\n",
    "# create a helper object for our bigquery dataset\n",
    "import bq_helper\n",
    "chicago_crime = bq_helper.BigQueryHelper(active_project= \"bigquery-public-data\", \n",
    "                                         dataset_name = \"chicago_crime\")\n",
    "print(\"Setup Complete\")"
   ]
  },
  {
   "cell_type": "markdown",
   "metadata": {
    "_uuid": "edb4c751598b80e7bdaf33f5c0971764d2608331"
   },
   "source": [
    "For reference, here is all the code you saw in the first tutorial:\n",
    "\n",
    "```\n",
    "hacker_news = bq_helper.BigQueryHelper(active_project= \"bigquery-public-data\", \n",
    "                                       dataset_name = \"hacker_news\")\n",
    "hacker_news.list_tables()\n",
    "hacker_news.table_schema(\"full\")\n",
    "hacker_news.head(\"full\")\n",
    "hacker_news.head(\"full\", selected_columns=\"by\", num_rows=10)\n",
    "```"
   ]
  },
  {
   "cell_type": "markdown",
   "metadata": {
    "_uuid": "f8a1f073ca9748699cf883e04325d03a7dbc6a55"
   },
   "source": [
    "# Exercises\n",
    "\n",
    "## 1\n",
    "How many tables are in the Chicago Crime dataset?"
   ]
  },
  {
   "cell_type": "code",
   "execution_count": 2,
   "metadata": {
    "_uuid": "87274d95a54c342bcd5fd3161e7aa1afcc8fa7d4"
   },
   "outputs": [
    {
     "data": {
      "text/plain": [
       "['crime']"
      ]
     },
     "execution_count": 2,
     "metadata": {},
     "output_type": "execute_result"
    }
   ],
   "source": [
    "____ # Write the code you need here to figure out the answer\n",
    "chicago_crime.list_tables()"
   ]
  },
  {
   "cell_type": "code",
   "execution_count": 3,
   "metadata": {
    "_uuid": "216ccdb0a6f0707dee093df17e7817617bbd45c4"
   },
   "outputs": [
    {
     "data": {
      "application/javascript": [
       "parent.postMessage({\"jupyterEvent\": \"custom.exercise_interaction\", \"data\": {\"outcomeType\": 1, \"valueTowardsCompletion\": 0.3333333333333333, \"interactionType\": 1, \"learnTutorialId\": 169, \"questionId\": \"1_CountTables\", \"learnToolsVersion\": \"0.2.12\", \"failureMessage\": \"\", \"exceptionClass\": \"\", \"trace\": \"\"}}, \"*\")"
      ],
      "text/plain": [
       "<IPython.core.display.Javascript object>"
      ]
     },
     "metadata": {},
     "output_type": "display_data"
    },
    {
     "data": {
      "text/markdown": [
       "<span style=\"color:#33cc33\">Correct</span>"
      ],
      "text/plain": [
       "Correct"
      ]
     },
     "metadata": {},
     "output_type": "display_data"
    }
   ],
   "source": [
    "num_tables = 1  # store the answer as num_tables and then run this cell\n",
    "\n",
    "q_1.check()"
   ]
  },
  {
   "cell_type": "markdown",
   "metadata": {
    "_uuid": "98528a3f3c2bc75aeac69321a7900fd949aa294e"
   },
   "source": [
    "For a hint or the solution, comment the appropriate line below."
   ]
  },
  {
   "cell_type": "code",
   "execution_count": 4,
   "metadata": {
    "_uuid": "3cb310bc8ae2caead600010b33d0e37221256cac"
   },
   "outputs": [
    {
     "data": {
      "application/javascript": [
       "parent.postMessage({\"jupyterEvent\": \"custom.exercise_interaction\", \"data\": {\"interactionType\": 2, \"learnTutorialId\": 169, \"questionId\": \"1_CountTables\", \"learnToolsVersion\": \"0.2.12\", \"valueTowardsCompletion\": 0.0, \"failureMessage\": \"\", \"exceptionClass\": \"\", \"trace\": \"\", \"outcomeType\": 4}}, \"*\")"
      ],
      "text/plain": [
       "<IPython.core.display.Javascript object>"
      ]
     },
     "metadata": {},
     "output_type": "display_data"
    },
    {
     "data": {
      "text/markdown": [
       "<span style=\"color:#3366cc\">Hint:</span> Run `chicago_crime.list_tables()` in the top cell. Interpret the output to fill in `num_tables`"
      ],
      "text/plain": [
       "Hint: Run `chicago_crime.list_tables()` in the top cell. Interpret the output to fill in `num_tables`"
      ]
     },
     "metadata": {},
     "output_type": "display_data"
    },
    {
     "data": {
      "application/javascript": [
       "parent.postMessage({\"jupyterEvent\": \"custom.exercise_interaction\", \"data\": {\"interactionType\": 3, \"learnTutorialId\": 169, \"questionId\": \"1_CountTables\", \"learnToolsVersion\": \"0.2.12\", \"valueTowardsCompletion\": 0.0, \"failureMessage\": \"\", \"exceptionClass\": \"\", \"trace\": \"\", \"outcomeType\": 4}}, \"*\")"
      ],
      "text/plain": [
       "<IPython.core.display.Javascript object>"
      ]
     },
     "metadata": {},
     "output_type": "display_data"
    },
    {
     "data": {
      "text/markdown": [
       "<span style=\"color:#33cc99\">Solution:</span> \n",
       "```python\n",
       "\n",
       "chicago_crime.list_tables()\n",
       "num_tables = 1   # also could have done num_tables = len(chicago_crime.list_tables())\n",
       "\n",
       "```"
      ],
      "text/plain": [
       "Solution: \n",
       "```python\n",
       "\n",
       "chicago_crime.list_tables()\n",
       "num_tables = 1   # also could have done num_tables = len(chicago_crime.list_tables())\n",
       "\n",
       "```"
      ]
     },
     "metadata": {},
     "output_type": "display_data"
    }
   ],
   "source": [
    " q_1.hint()\n",
    " q_1.solution()"
   ]
  },
  {
   "cell_type": "markdown",
   "metadata": {
    "_uuid": "9f844afdf7d05c3847e17cc46f3a9e50cd342173"
   },
   "source": [
    "## 2\n",
    "\n",
    "How many columns in the `crime` table have `TIMESTAMP` data?"
   ]
  },
  {
   "cell_type": "code",
   "execution_count": 5,
   "metadata": {
    "_uuid": "ca383652395683faf60aae009d8d30a8a4facaea",
    "scrolled": true
   },
   "outputs": [
    {
     "data": {
      "text/html": [
       "<div>\n",
       "<style scoped>\n",
       "    .dataframe tbody tr th:only-of-type {\n",
       "        vertical-align: middle;\n",
       "    }\n",
       "\n",
       "    .dataframe tbody tr th {\n",
       "        vertical-align: top;\n",
       "    }\n",
       "\n",
       "    .dataframe thead th {\n",
       "        text-align: right;\n",
       "    }\n",
       "</style>\n",
       "<table border=\"1\" class=\"dataframe\">\n",
       "  <thead>\n",
       "    <tr style=\"text-align: right;\">\n",
       "      <th></th>\n",
       "      <th>unique_key</th>\n",
       "      <th>case_number</th>\n",
       "      <th>date</th>\n",
       "      <th>block</th>\n",
       "      <th>iucr</th>\n",
       "      <th>primary_type</th>\n",
       "      <th>description</th>\n",
       "      <th>location_description</th>\n",
       "      <th>arrest</th>\n",
       "      <th>domestic</th>\n",
       "      <th>beat</th>\n",
       "      <th>district</th>\n",
       "      <th>ward</th>\n",
       "      <th>community_area</th>\n",
       "      <th>fbi_code</th>\n",
       "      <th>x_coordinate</th>\n",
       "      <th>y_coordinate</th>\n",
       "      <th>year</th>\n",
       "      <th>updated_on</th>\n",
       "      <th>latitude</th>\n",
       "      <th>longitude</th>\n",
       "      <th>location</th>\n",
       "    </tr>\n",
       "  </thead>\n",
       "  <tbody>\n",
       "    <tr>\n",
       "      <th>0</th>\n",
       "      <td>7533246</td>\n",
       "      <td>HS336724</td>\n",
       "      <td>2010-06-01 08:20:00+00:00</td>\n",
       "      <td>132XX S BURLEY AVE</td>\n",
       "      <td>0530</td>\n",
       "      <td>ASSAULT</td>\n",
       "      <td>AGGRAVATED: OTHER DANG WEAPON</td>\n",
       "      <td>STREET</td>\n",
       "      <td>False</td>\n",
       "      <td>False</td>\n",
       "      <td>433</td>\n",
       "      <td>4</td>\n",
       "      <td>10</td>\n",
       "      <td>55</td>\n",
       "      <td>04A</td>\n",
       "      <td>1199760.0</td>\n",
       "      <td>1817754.0</td>\n",
       "      <td>2010</td>\n",
       "      <td>2018-02-10 15:50:01+00:00</td>\n",
       "      <td>41.654708</td>\n",
       "      <td>-87.544723</td>\n",
       "      <td>(41.654708481, -87.544723204)</td>\n",
       "    </tr>\n",
       "    <tr>\n",
       "      <th>1</th>\n",
       "      <td>7534376</td>\n",
       "      <td>HS323256</td>\n",
       "      <td>2010-05-24 03:17:00+00:00</td>\n",
       "      <td>035XX S ARCHER AVE</td>\n",
       "      <td>1305</td>\n",
       "      <td>CRIMINAL DAMAGE</td>\n",
       "      <td>CRIMINAL DEFACEMENT</td>\n",
       "      <td>OTHER RAILROAD PROP / TRAIN DEPOT</td>\n",
       "      <td>True</td>\n",
       "      <td>False</td>\n",
       "      <td>913</td>\n",
       "      <td>9</td>\n",
       "      <td>11</td>\n",
       "      <td>59</td>\n",
       "      <td>14</td>\n",
       "      <td>1162521.0</td>\n",
       "      <td>1881111.0</td>\n",
       "      <td>2010</td>\n",
       "      <td>2018-02-10 15:50:01+00:00</td>\n",
       "      <td>41.829424</td>\n",
       "      <td>-87.679219</td>\n",
       "      <td>(41.82942391, -87.679219332)</td>\n",
       "    </tr>\n",
       "    <tr>\n",
       "      <th>2</th>\n",
       "      <td>7547166</td>\n",
       "      <td>HS350464</td>\n",
       "      <td>2010-06-09 09:45:00+00:00</td>\n",
       "      <td>051XX N OAK PARK AVE</td>\n",
       "      <td>1130</td>\n",
       "      <td>DECEPTIVE PRACTICE</td>\n",
       "      <td>FRAUD OR CONFIDENCE GAME</td>\n",
       "      <td>RESIDENCE</td>\n",
       "      <td>False</td>\n",
       "      <td>False</td>\n",
       "      <td>1613</td>\n",
       "      <td>16</td>\n",
       "      <td>41</td>\n",
       "      <td>10</td>\n",
       "      <td>11</td>\n",
       "      <td>1130260.0</td>\n",
       "      <td>1933789.0</td>\n",
       "      <td>2010</td>\n",
       "      <td>2018-02-10 15:50:01+00:00</td>\n",
       "      <td>41.974593</td>\n",
       "      <td>-87.796376</td>\n",
       "      <td>(41.974592517, -87.796376446)</td>\n",
       "    </tr>\n",
       "    <tr>\n",
       "      <th>3</th>\n",
       "      <td>7550529</td>\n",
       "      <td>HS346812</td>\n",
       "      <td>2010-06-07 09:30:00+00:00</td>\n",
       "      <td>003XX E 130TH ST</td>\n",
       "      <td>0497</td>\n",
       "      <td>BATTERY</td>\n",
       "      <td>AGGRAVATED DOMESTIC BATTERY: OTHER DANG WEAPON</td>\n",
       "      <td>STREET</td>\n",
       "      <td>False</td>\n",
       "      <td>True</td>\n",
       "      <td>533</td>\n",
       "      <td>5</td>\n",
       "      <td>9</td>\n",
       "      <td>54</td>\n",
       "      <td>04B</td>\n",
       "      <td>1180503.0</td>\n",
       "      <td>1818899.0</td>\n",
       "      <td>2010</td>\n",
       "      <td>2018-02-10 15:50:01+00:00</td>\n",
       "      <td>41.658312</td>\n",
       "      <td>-87.615149</td>\n",
       "      <td>(41.658312389, -87.615149347)</td>\n",
       "    </tr>\n",
       "    <tr>\n",
       "      <th>4</th>\n",
       "      <td>7551220</td>\n",
       "      <td>HS315545</td>\n",
       "      <td>2010-05-19 12:00:00+00:00</td>\n",
       "      <td>063XX W GUNNISON ST</td>\n",
       "      <td>5011</td>\n",
       "      <td>OTHER OFFENSE</td>\n",
       "      <td>LICENSE VIOLATION</td>\n",
       "      <td>OTHER</td>\n",
       "      <td>False</td>\n",
       "      <td>False</td>\n",
       "      <td>1622</td>\n",
       "      <td>16</td>\n",
       "      <td>45</td>\n",
       "      <td>11</td>\n",
       "      <td>26</td>\n",
       "      <td>1132782.0</td>\n",
       "      <td>1931556.0</td>\n",
       "      <td>2010</td>\n",
       "      <td>2018-02-10 15:50:01+00:00</td>\n",
       "      <td>41.968421</td>\n",
       "      <td>-87.787154</td>\n",
       "      <td>(41.968421196, -87.787154457)</td>\n",
       "    </tr>\n",
       "  </tbody>\n",
       "</table>\n",
       "</div>"
      ],
      "text/plain": [
       "   unique_key              ...                                     location\n",
       "0     7533246              ...                (41.654708481, -87.544723204)\n",
       "1     7534376              ...                 (41.82942391, -87.679219332)\n",
       "2     7547166              ...                (41.974592517, -87.796376446)\n",
       "3     7550529              ...                (41.658312389, -87.615149347)\n",
       "4     7551220              ...                (41.968421196, -87.787154457)\n",
       "\n",
       "[5 rows x 22 columns]"
      ]
     },
     "execution_count": 5,
     "metadata": {},
     "output_type": "execute_result"
    }
   ],
   "source": [
    "____ # Write the code to figure out the answer\n",
    "chicago_crime.table_schema('crime')\n",
    "chicago_crime.head('crime')"
   ]
  },
  {
   "cell_type": "code",
   "execution_count": 6,
   "metadata": {
    "_uuid": "6015e32bfcd49ce7f724adfb458e2ee47539cfcb"
   },
   "outputs": [
    {
     "data": {
      "application/javascript": [
       "parent.postMessage({\"jupyterEvent\": \"custom.exercise_interaction\", \"data\": {\"outcomeType\": 1, \"valueTowardsCompletion\": 0.3333333333333333, \"interactionType\": 1, \"learnTutorialId\": 169, \"questionId\": \"2_CountTimestampFields\", \"learnToolsVersion\": \"0.2.12\", \"failureMessage\": \"\", \"exceptionClass\": \"\", \"trace\": \"\"}}, \"*\")"
      ],
      "text/plain": [
       "<IPython.core.display.Javascript object>"
      ]
     },
     "metadata": {},
     "output_type": "display_data"
    },
    {
     "data": {
      "text/markdown": [
       "<span style=\"color:#33cc33\">Correct</span>"
      ],
      "text/plain": [
       "Correct"
      ]
     },
     "metadata": {},
     "output_type": "display_data"
    }
   ],
   "source": [
    "num_timestamp_fields = 2 # put your answer here\n",
    "\n",
    "q_2.check()"
   ]
  },
  {
   "cell_type": "markdown",
   "metadata": {
    "_uuid": "ae4dca3e45b75de06204ec36a364c6c2e6216c24"
   },
   "source": [
    "For a hint or the solution, comment the appropriate line below."
   ]
  },
  {
   "cell_type": "code",
   "execution_count": 7,
   "metadata": {
    "_uuid": "41edc03620f09b73acf96f98fe41ba2e8a57acf9"
   },
   "outputs": [
    {
     "data": {
      "application/javascript": [
       "parent.postMessage({\"jupyterEvent\": \"custom.exercise_interaction\", \"data\": {\"interactionType\": 2, \"learnTutorialId\": 169, \"questionId\": \"2_CountTimestampFields\", \"learnToolsVersion\": \"0.2.12\", \"valueTowardsCompletion\": 0.0, \"failureMessage\": \"\", \"exceptionClass\": \"\", \"trace\": \"\", \"outcomeType\": 4}}, \"*\")"
      ],
      "text/plain": [
       "<IPython.core.display.Javascript object>"
      ]
     },
     "metadata": {},
     "output_type": "display_data"
    },
    {
     "data": {
      "text/markdown": [
       "<span style=\"color:#3366cc\">Hint:</span> Run `chicago_crime.table_schema('crime')` and count the number of fields with TIMESTAMP type"
      ],
      "text/plain": [
       "Hint: Run `chicago_crime.table_schema('crime')` and count the number of fields with TIMESTAMP type"
      ]
     },
     "metadata": {},
     "output_type": "display_data"
    },
    {
     "data": {
      "application/javascript": [
       "parent.postMessage({\"jupyterEvent\": \"custom.exercise_interaction\", \"data\": {\"interactionType\": 3, \"learnTutorialId\": 169, \"questionId\": \"2_CountTimestampFields\", \"learnToolsVersion\": \"0.2.12\", \"valueTowardsCompletion\": 0.0, \"failureMessage\": \"\", \"exceptionClass\": \"\", \"trace\": \"\", \"outcomeType\": 4}}, \"*\")"
      ],
      "text/plain": [
       "<IPython.core.display.Javascript object>"
      ]
     },
     "metadata": {},
     "output_type": "display_data"
    },
    {
     "data": {
      "text/markdown": [
       "<span style=\"color:#33cc99\">Solution:</span> \n",
       "```python\n",
       "\n",
       "chicago_crime.table_schema('crime')\n",
       "num_timestamp_fields = 2\n",
       "\n",
       "```"
      ],
      "text/plain": [
       "Solution: \n",
       "```python\n",
       "\n",
       "chicago_crime.table_schema('crime')\n",
       "num_timestamp_fields = 2\n",
       "\n",
       "```"
      ]
     },
     "metadata": {},
     "output_type": "display_data"
    }
   ],
   "source": [
    "q_2.hint()\n",
    "q_2.solution()"
   ]
  },
  {
   "cell_type": "markdown",
   "metadata": {
    "_uuid": "bb77a9a53e86d43a84c6094e20e297159de819b5"
   },
   "source": [
    "## 3\n",
    "\n",
    "If you wanted to create a map with a dot at the location of each crime, what are the names of the two fields you likely need to pull out of the database to plot the crimes on a map?"
   ]
  },
  {
   "cell_type": "code",
   "execution_count": 8,
   "metadata": {
    "_uuid": "8b831d2fd978dfe46def1aad5a7b97e88c7f0d7c"
   },
   "outputs": [
    {
     "data": {
      "text/html": [
       "<div>\n",
       "<style scoped>\n",
       "    .dataframe tbody tr th:only-of-type {\n",
       "        vertical-align: middle;\n",
       "    }\n",
       "\n",
       "    .dataframe tbody tr th {\n",
       "        vertical-align: top;\n",
       "    }\n",
       "\n",
       "    .dataframe thead th {\n",
       "        text-align: right;\n",
       "    }\n",
       "</style>\n",
       "<table border=\"1\" class=\"dataframe\">\n",
       "  <thead>\n",
       "    <tr style=\"text-align: right;\">\n",
       "      <th></th>\n",
       "      <th>unique_key</th>\n",
       "      <th>case_number</th>\n",
       "      <th>date</th>\n",
       "      <th>block</th>\n",
       "      <th>iucr</th>\n",
       "      <th>primary_type</th>\n",
       "      <th>description</th>\n",
       "      <th>location_description</th>\n",
       "      <th>arrest</th>\n",
       "      <th>domestic</th>\n",
       "      <th>beat</th>\n",
       "      <th>district</th>\n",
       "      <th>ward</th>\n",
       "      <th>community_area</th>\n",
       "      <th>fbi_code</th>\n",
       "      <th>x_coordinate</th>\n",
       "      <th>y_coordinate</th>\n",
       "      <th>year</th>\n",
       "      <th>updated_on</th>\n",
       "      <th>latitude</th>\n",
       "      <th>longitude</th>\n",
       "      <th>location</th>\n",
       "    </tr>\n",
       "  </thead>\n",
       "  <tbody>\n",
       "    <tr>\n",
       "      <th>0</th>\n",
       "      <td>7533246</td>\n",
       "      <td>HS336724</td>\n",
       "      <td>2010-06-01 08:20:00+00:00</td>\n",
       "      <td>132XX S BURLEY AVE</td>\n",
       "      <td>0530</td>\n",
       "      <td>ASSAULT</td>\n",
       "      <td>AGGRAVATED: OTHER DANG WEAPON</td>\n",
       "      <td>STREET</td>\n",
       "      <td>False</td>\n",
       "      <td>False</td>\n",
       "      <td>433</td>\n",
       "      <td>4</td>\n",
       "      <td>10</td>\n",
       "      <td>55</td>\n",
       "      <td>04A</td>\n",
       "      <td>1199760.0</td>\n",
       "      <td>1817754.0</td>\n",
       "      <td>2010</td>\n",
       "      <td>2018-02-10 15:50:01+00:00</td>\n",
       "      <td>41.654708</td>\n",
       "      <td>-87.544723</td>\n",
       "      <td>(41.654708481, -87.544723204)</td>\n",
       "    </tr>\n",
       "    <tr>\n",
       "      <th>1</th>\n",
       "      <td>7534376</td>\n",
       "      <td>HS323256</td>\n",
       "      <td>2010-05-24 03:17:00+00:00</td>\n",
       "      <td>035XX S ARCHER AVE</td>\n",
       "      <td>1305</td>\n",
       "      <td>CRIMINAL DAMAGE</td>\n",
       "      <td>CRIMINAL DEFACEMENT</td>\n",
       "      <td>OTHER RAILROAD PROP / TRAIN DEPOT</td>\n",
       "      <td>True</td>\n",
       "      <td>False</td>\n",
       "      <td>913</td>\n",
       "      <td>9</td>\n",
       "      <td>11</td>\n",
       "      <td>59</td>\n",
       "      <td>14</td>\n",
       "      <td>1162521.0</td>\n",
       "      <td>1881111.0</td>\n",
       "      <td>2010</td>\n",
       "      <td>2018-02-10 15:50:01+00:00</td>\n",
       "      <td>41.829424</td>\n",
       "      <td>-87.679219</td>\n",
       "      <td>(41.82942391, -87.679219332)</td>\n",
       "    </tr>\n",
       "    <tr>\n",
       "      <th>2</th>\n",
       "      <td>7547166</td>\n",
       "      <td>HS350464</td>\n",
       "      <td>2010-06-09 09:45:00+00:00</td>\n",
       "      <td>051XX N OAK PARK AVE</td>\n",
       "      <td>1130</td>\n",
       "      <td>DECEPTIVE PRACTICE</td>\n",
       "      <td>FRAUD OR CONFIDENCE GAME</td>\n",
       "      <td>RESIDENCE</td>\n",
       "      <td>False</td>\n",
       "      <td>False</td>\n",
       "      <td>1613</td>\n",
       "      <td>16</td>\n",
       "      <td>41</td>\n",
       "      <td>10</td>\n",
       "      <td>11</td>\n",
       "      <td>1130260.0</td>\n",
       "      <td>1933789.0</td>\n",
       "      <td>2010</td>\n",
       "      <td>2018-02-10 15:50:01+00:00</td>\n",
       "      <td>41.974593</td>\n",
       "      <td>-87.796376</td>\n",
       "      <td>(41.974592517, -87.796376446)</td>\n",
       "    </tr>\n",
       "    <tr>\n",
       "      <th>3</th>\n",
       "      <td>7550529</td>\n",
       "      <td>HS346812</td>\n",
       "      <td>2010-06-07 09:30:00+00:00</td>\n",
       "      <td>003XX E 130TH ST</td>\n",
       "      <td>0497</td>\n",
       "      <td>BATTERY</td>\n",
       "      <td>AGGRAVATED DOMESTIC BATTERY: OTHER DANG WEAPON</td>\n",
       "      <td>STREET</td>\n",
       "      <td>False</td>\n",
       "      <td>True</td>\n",
       "      <td>533</td>\n",
       "      <td>5</td>\n",
       "      <td>9</td>\n",
       "      <td>54</td>\n",
       "      <td>04B</td>\n",
       "      <td>1180503.0</td>\n",
       "      <td>1818899.0</td>\n",
       "      <td>2010</td>\n",
       "      <td>2018-02-10 15:50:01+00:00</td>\n",
       "      <td>41.658312</td>\n",
       "      <td>-87.615149</td>\n",
       "      <td>(41.658312389, -87.615149347)</td>\n",
       "    </tr>\n",
       "    <tr>\n",
       "      <th>4</th>\n",
       "      <td>7551220</td>\n",
       "      <td>HS315545</td>\n",
       "      <td>2010-05-19 12:00:00+00:00</td>\n",
       "      <td>063XX W GUNNISON ST</td>\n",
       "      <td>5011</td>\n",
       "      <td>OTHER OFFENSE</td>\n",
       "      <td>LICENSE VIOLATION</td>\n",
       "      <td>OTHER</td>\n",
       "      <td>False</td>\n",
       "      <td>False</td>\n",
       "      <td>1622</td>\n",
       "      <td>16</td>\n",
       "      <td>45</td>\n",
       "      <td>11</td>\n",
       "      <td>26</td>\n",
       "      <td>1132782.0</td>\n",
       "      <td>1931556.0</td>\n",
       "      <td>2010</td>\n",
       "      <td>2018-02-10 15:50:01+00:00</td>\n",
       "      <td>41.968421</td>\n",
       "      <td>-87.787154</td>\n",
       "      <td>(41.968421196, -87.787154457)</td>\n",
       "    </tr>\n",
       "  </tbody>\n",
       "</table>\n",
       "</div>"
      ],
      "text/plain": [
       "   unique_key              ...                                     location\n",
       "0     7533246              ...                (41.654708481, -87.544723204)\n",
       "1     7534376              ...                 (41.82942391, -87.679219332)\n",
       "2     7547166              ...                (41.974592517, -87.796376446)\n",
       "3     7550529              ...                (41.658312389, -87.615149347)\n",
       "4     7551220              ...                (41.968421196, -87.787154457)\n",
       "\n",
       "[5 rows x 22 columns]"
      ]
     },
     "execution_count": 8,
     "metadata": {},
     "output_type": "execute_result"
    }
   ],
   "source": [
    "____ # Write the code here to explore the data so you can find the answer\n",
    "chicago_crime.head(\"crime\")"
   ]
  },
  {
   "cell_type": "code",
   "execution_count": 9,
   "metadata": {
    "_uuid": "2b9868632cfb0057c72d5a373ccac5a28318c70e"
   },
   "outputs": [
    {
     "data": {
      "application/javascript": [
       "parent.postMessage({\"jupyterEvent\": \"custom.exercise_interaction\", \"data\": {\"outcomeType\": 1, \"valueTowardsCompletion\": 0.3333333333333333, \"interactionType\": 1, \"learnTutorialId\": 169, \"questionId\": \"3_IdentifyFieldsForPlotting\", \"learnToolsVersion\": \"0.2.12\", \"failureMessage\": \"\", \"exceptionClass\": \"\", \"trace\": \"\"}}, \"*\")"
      ],
      "text/plain": [
       "<IPython.core.display.Javascript object>"
      ]
     },
     "metadata": {},
     "output_type": "display_data"
    },
    {
     "data": {
      "text/markdown": [
       "<span style=\"color:#33cc33\">Correct</span>"
      ],
      "text/plain": [
       "Correct"
      ]
     },
     "metadata": {},
     "output_type": "display_data"
    }
   ],
   "source": [
    "fields_for_plotting = ['latitude', 'longitude']\n",
    "\n",
    "q_3.check()"
   ]
  },
  {
   "cell_type": "markdown",
   "metadata": {
    "_uuid": "543d7c1aefae4e8fea85ca200696c4e0e74e1eeb"
   },
   "source": [
    "For a hint or the solution, comment the appropriate line below."
   ]
  },
  {
   "cell_type": "code",
   "execution_count": 10,
   "metadata": {
    "_uuid": "8fec6d6388528cc85846f8934dac1028c1113568"
   },
   "outputs": [
    {
     "data": {
      "application/javascript": [
       "parent.postMessage({\"jupyterEvent\": \"custom.exercise_interaction\", \"data\": {\"interactionType\": 2, \"learnTutorialId\": 169, \"questionId\": \"3_IdentifyFieldsForPlotting\", \"learnToolsVersion\": \"0.2.12\", \"valueTowardsCompletion\": 0.0, \"failureMessage\": \"\", \"exceptionClass\": \"\", \"trace\": \"\", \"outcomeType\": 4}}, \"*\")"
      ],
      "text/plain": [
       "<IPython.core.display.Javascript object>"
      ]
     },
     "metadata": {},
     "output_type": "display_data"
    },
    {
     "data": {
      "text/markdown": [
       "<span style=\"color:#3366cc\">Hint:</span> There are a couple options, but two of the fields are things commonly used to plot on maps. Both are FLOAT types. Use quotes around the field names in your answer"
      ],
      "text/plain": [
       "Hint: There are a couple options, but two of the fields are things commonly used to plot on maps. Both are FLOAT types. Use quotes around the field names in your answer"
      ]
     },
     "metadata": {},
     "output_type": "display_data"
    },
    {
     "data": {
      "application/javascript": [
       "parent.postMessage({\"jupyterEvent\": \"custom.exercise_interaction\", \"data\": {\"interactionType\": 3, \"learnTutorialId\": 169, \"questionId\": \"3_IdentifyFieldsForPlotting\", \"learnToolsVersion\": \"0.2.12\", \"valueTowardsCompletion\": 0.0, \"failureMessage\": \"\", \"exceptionClass\": \"\", \"trace\": \"\", \"outcomeType\": 4}}, \"*\")"
      ],
      "text/plain": [
       "<IPython.core.display.Javascript object>"
      ]
     },
     "metadata": {},
     "output_type": "display_data"
    },
    {
     "data": {
      "text/markdown": [
       "<span style=\"color:#33cc99\">Solution:</span> \n",
       "```python\n",
       "fields_for_plotting = ['latitude', 'longitude']\n",
       "```"
      ],
      "text/plain": [
       "Solution: \n",
       "```python\n",
       "fields_for_plotting = ['latitude', 'longitude']\n",
       "```"
      ]
     },
     "metadata": {},
     "output_type": "display_data"
    }
   ],
   "source": [
    "q_3.hint()\n",
    "q_3.solution()"
   ]
  },
  {
   "cell_type": "markdown",
   "metadata": {
    "_uuid": "6c32b8a6fcb0f3be474b74d2e4660db5f4e87718"
   },
   "source": [
    "Thinking about the question above, there are a columns that appear to have geographic data. Look at a few values (with the `head` command) to see if you can determine their relationship.  Two columns will still hard to interpret. But it should be obvious how the `location` column relates to `latitude` and `longitude`."
   ]
  },
  {
   "cell_type": "code",
   "execution_count": 11,
   "metadata": {
    "_uuid": "c911565e0ab7f7cdf95c634fdf81f01eb0ada414"
   },
   "outputs": [
    {
     "data": {
      "text/html": [
       "<div>\n",
       "<style scoped>\n",
       "    .dataframe tbody tr th:only-of-type {\n",
       "        vertical-align: middle;\n",
       "    }\n",
       "\n",
       "    .dataframe tbody tr th {\n",
       "        vertical-align: top;\n",
       "    }\n",
       "\n",
       "    .dataframe thead th {\n",
       "        text-align: right;\n",
       "    }\n",
       "</style>\n",
       "<table border=\"1\" class=\"dataframe\">\n",
       "  <thead>\n",
       "    <tr style=\"text-align: right;\">\n",
       "      <th></th>\n",
       "      <th>latitude</th>\n",
       "      <th>longitude</th>\n",
       "      <th>location</th>\n",
       "    </tr>\n",
       "  </thead>\n",
       "  <tbody>\n",
       "    <tr>\n",
       "      <th>0</th>\n",
       "      <td>41.654708</td>\n",
       "      <td>-87.544723</td>\n",
       "      <td>(41.654708481, -87.544723204)</td>\n",
       "    </tr>\n",
       "    <tr>\n",
       "      <th>1</th>\n",
       "      <td>41.829424</td>\n",
       "      <td>-87.679219</td>\n",
       "      <td>(41.82942391, -87.679219332)</td>\n",
       "    </tr>\n",
       "    <tr>\n",
       "      <th>2</th>\n",
       "      <td>41.974593</td>\n",
       "      <td>-87.796376</td>\n",
       "      <td>(41.974592517, -87.796376446)</td>\n",
       "    </tr>\n",
       "    <tr>\n",
       "      <th>3</th>\n",
       "      <td>41.658312</td>\n",
       "      <td>-87.615149</td>\n",
       "      <td>(41.658312389, -87.615149347)</td>\n",
       "    </tr>\n",
       "    <tr>\n",
       "      <th>4</th>\n",
       "      <td>41.968421</td>\n",
       "      <td>-87.787154</td>\n",
       "      <td>(41.968421196, -87.787154457)</td>\n",
       "    </tr>\n",
       "    <tr>\n",
       "      <th>5</th>\n",
       "      <td>41.725622</td>\n",
       "      <td>-87.597300</td>\n",
       "      <td>(41.725622159, -87.597300063)</td>\n",
       "    </tr>\n",
       "    <tr>\n",
       "      <th>6</th>\n",
       "      <td>41.707525</td>\n",
       "      <td>-87.541339</td>\n",
       "      <td>(41.707524547, -87.541338707)</td>\n",
       "    </tr>\n",
       "    <tr>\n",
       "      <th>7</th>\n",
       "      <td>41.978357</td>\n",
       "      <td>-87.811034</td>\n",
       "      <td>(41.978356584, -87.811033721)</td>\n",
       "    </tr>\n",
       "    <tr>\n",
       "      <th>8</th>\n",
       "      <td>41.691315</td>\n",
       "      <td>-87.717043</td>\n",
       "      <td>(41.691314623, -87.717043381)</td>\n",
       "    </tr>\n",
       "    <tr>\n",
       "      <th>9</th>\n",
       "      <td>41.818652</td>\n",
       "      <td>-87.605679</td>\n",
       "      <td>(41.818652143, -87.605678644)</td>\n",
       "    </tr>\n",
       "  </tbody>\n",
       "</table>\n",
       "</div>"
      ],
      "text/plain": [
       "    latitude              ...                                     location\n",
       "0  41.654708              ...                (41.654708481, -87.544723204)\n",
       "1  41.829424              ...                 (41.82942391, -87.679219332)\n",
       "2  41.974593              ...                (41.974592517, -87.796376446)\n",
       "3  41.658312              ...                (41.658312389, -87.615149347)\n",
       "4  41.968421              ...                (41.968421196, -87.787154457)\n",
       "5  41.725622              ...                (41.725622159, -87.597300063)\n",
       "6  41.707525              ...                (41.707524547, -87.541338707)\n",
       "7  41.978357              ...                (41.978356584, -87.811033721)\n",
       "8  41.691315              ...                (41.691314623, -87.717043381)\n",
       "9  41.818652              ...                (41.818652143, -87.605678644)\n",
       "\n",
       "[10 rows x 3 columns]"
      ]
     },
     "execution_count": 11,
     "metadata": {},
     "output_type": "execute_result"
    }
   ],
   "source": [
    "# Scratch space for your code\n",
    "chicago_crime.head(\"crime\",selected_columns = [\"location\",\"latitude\",\"longitude\"], num_rows = 10)"
   ]
  },
  {
   "cell_type": "markdown",
   "metadata": {
    "_uuid": "e18aabb8cd0ad7529d29de188acfb384974303a9"
   },
   "source": [
    "# Keep Going\n",
    "\n",
    "You've looked at the schema, but you haven't yet done anything exciting at the data itself. Things get more interesting when you get to the data, so keep going to learn **[Select Queries](https://www.kaggle.com/dansbecker/select-from-where).**"
   ]
  },
  {
   "cell_type": "markdown",
   "metadata": {
    "_uuid": "cdf21b87383ae7a7e1a5b0479d15eb85b69f81a9"
   },
   "source": [
    "---\n",
    "**[SQL Micro-Course Home Page](https://www.kaggle.com/learn/SQL)**\n",
    "\n"
   ]
  }
 ],
 "metadata": {
  "kernelspec": {
   "display_name": "Python 3",
   "language": "python",
   "name": "python3"
  },
  "language_info": {
   "codemirror_mode": {
    "name": "ipython",
    "version": 3
   },
   "file_extension": ".py",
   "mimetype": "text/x-python",
   "name": "python",
   "nbconvert_exporter": "python",
   "pygments_lexer": "ipython3",
   "version": "3.6.6"
  }
 },
 "nbformat": 4,
 "nbformat_minor": 1
}
