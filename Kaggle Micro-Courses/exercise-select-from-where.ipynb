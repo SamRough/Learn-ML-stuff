{
 "cells": [
  {
   "cell_type": "markdown",
   "metadata": {
    "_uuid": "ce9428afe519b498027da0f612b70a68b1c08a10"
   },
   "source": [
    "**[SQL Micro-Course Home Page](https://www.kaggle.com/learn/SQL)**\n",
    "\n",
    "---\n"
   ]
  },
  {
   "cell_type": "markdown",
   "metadata": {
    "_uuid": "0da8775cef6228010b2e45a6ad2946f987547f44"
   },
   "source": [
    "# Introduction\n",
    "\n",
    "Try some **SELECT** statements of your own to see if you can answer the questions from a large dataset of air pollution measurements.\n",
    "\n",
    "Again, run the cell below to set everything up."
   ]
  },
  {
   "cell_type": "code",
   "execution_count": 1,
   "metadata": {
    "_uuid": "9252981116f99a8021b02f92573222e30330430e"
   },
   "outputs": [
    {
     "name": "stdout",
     "output_type": "stream",
     "text": [
      "Using Kaggle's public dataset BigQuery integration.\n",
      "Setup Complete\n",
      "Tables list: ['global_air_quality']\n"
     ]
    },
    {
     "data": {
      "text/html": [
       "<div>\n",
       "<style scoped>\n",
       "    .dataframe tbody tr th:only-of-type {\n",
       "        vertical-align: middle;\n",
       "    }\n",
       "\n",
       "    .dataframe tbody tr th {\n",
       "        vertical-align: top;\n",
       "    }\n",
       "\n",
       "    .dataframe thead th {\n",
       "        text-align: right;\n",
       "    }\n",
       "</style>\n",
       "<table border=\"1\" class=\"dataframe\">\n",
       "  <thead>\n",
       "    <tr style=\"text-align: right;\">\n",
       "      <th></th>\n",
       "      <th>location</th>\n",
       "      <th>city</th>\n",
       "      <th>country</th>\n",
       "      <th>pollutant</th>\n",
       "      <th>value</th>\n",
       "      <th>timestamp</th>\n",
       "      <th>unit</th>\n",
       "      <th>source_name</th>\n",
       "      <th>latitude</th>\n",
       "      <th>longitude</th>\n",
       "      <th>averaged_over_in_hours</th>\n",
       "    </tr>\n",
       "  </thead>\n",
       "  <tbody>\n",
       "    <tr>\n",
       "      <th>0</th>\n",
       "      <td>Mobile_Plain</td>\n",
       "      <td>007</td>\n",
       "      <td>US</td>\n",
       "      <td>pm25</td>\n",
       "      <td>151.0</td>\n",
       "      <td>2018-08-15 13:00:00+00:00</td>\n",
       "      <td>µg/m³</td>\n",
       "      <td>AirNow</td>\n",
       "      <td>47.768566</td>\n",
       "      <td>-120.66451</td>\n",
       "      <td>1.0</td>\n",
       "    </tr>\n",
       "    <tr>\n",
       "      <th>1</th>\n",
       "      <td>Plain_Mobile</td>\n",
       "      <td>007</td>\n",
       "      <td>US</td>\n",
       "      <td>pm25</td>\n",
       "      <td>0.0</td>\n",
       "      <td>2018-11-09 23:00:00+00:00</td>\n",
       "      <td>µg/m³</td>\n",
       "      <td>AirNow</td>\n",
       "      <td>47.768610</td>\n",
       "      <td>-120.66445</td>\n",
       "      <td>1.0</td>\n",
       "    </tr>\n",
       "    <tr>\n",
       "      <th>2</th>\n",
       "      <td>Leavenworth_Mobile</td>\n",
       "      <td>007</td>\n",
       "      <td>US</td>\n",
       "      <td>pm25</td>\n",
       "      <td>10.0</td>\n",
       "      <td>2018-11-09 19:00:00+00:00</td>\n",
       "      <td>µg/m³</td>\n",
       "      <td>AirNow</td>\n",
       "      <td>47.558570</td>\n",
       "      <td>-120.67267</td>\n",
       "      <td>1.0</td>\n",
       "    </tr>\n",
       "    <tr>\n",
       "      <th>3</th>\n",
       "      <td>Cle Elum_Mobile</td>\n",
       "      <td>037</td>\n",
       "      <td>US</td>\n",
       "      <td>pm25</td>\n",
       "      <td>7.0</td>\n",
       "      <td>2019-01-03 19:00:00+00:00</td>\n",
       "      <td>µg/m³</td>\n",
       "      <td>AirNow</td>\n",
       "      <td>47.197567</td>\n",
       "      <td>-120.95825</td>\n",
       "      <td>1.0</td>\n",
       "    </tr>\n",
       "    <tr>\n",
       "      <th>4</th>\n",
       "      <td>Mobile_Cle Elum</td>\n",
       "      <td>037</td>\n",
       "      <td>US</td>\n",
       "      <td>pm25</td>\n",
       "      <td>62.0</td>\n",
       "      <td>2018-08-21 13:00:00+00:00</td>\n",
       "      <td>µg/m³</td>\n",
       "      <td>AirNow</td>\n",
       "      <td>47.197598</td>\n",
       "      <td>-120.95827</td>\n",
       "      <td>1.0</td>\n",
       "    </tr>\n",
       "  </tbody>\n",
       "</table>\n",
       "</div>"
      ],
      "text/plain": [
       "             location          ...           averaged_over_in_hours\n",
       "0        Mobile_Plain          ...                              1.0\n",
       "1        Plain_Mobile          ...                              1.0\n",
       "2  Leavenworth_Mobile          ...                              1.0\n",
       "3     Cle Elum_Mobile          ...                              1.0\n",
       "4     Mobile_Cle Elum          ...                              1.0\n",
       "\n",
       "[5 rows x 11 columns]"
      ]
     },
     "execution_count": 1,
     "metadata": {},
     "output_type": "execute_result"
    }
   ],
   "source": [
    "# Set up feedack system\n",
    "from learntools.core import binder\n",
    "binder.bind(globals())\n",
    "from learntools.sql.ex2 import *\n",
    "\n",
    "# import package with helper functions \n",
    "import bq_helper\n",
    "\n",
    "# create a helper object for this dataset\n",
    "open_aq = bq_helper.BigQueryHelper(active_project=\"bigquery-public-data\",\n",
    "                                   dataset_name=\"openaq\")\n",
    "\n",
    "print(\"Setup Complete\")\n",
    "\n",
    "# print list of tables in this dataset (there's only one!)\n",
    "print('Tables list: {}'.format(open_aq.list_tables()))\n",
    "\n",
    "# print look at top few rows\n",
    "open_aq.head('global_air_quality')\n"
   ]
  },
  {
   "cell_type": "markdown",
   "metadata": {
    "_uuid": "0fc9f23c027a13c983646a621ab5296415e53846"
   },
   "source": [
    "Now you'll write and run the code to answer the questions below."
   ]
  },
  {
   "cell_type": "markdown",
   "metadata": {
    "_uuid": "1c5409e6c4f88b596e18d038f46bf2010bbf5e3f"
   },
   "source": [
    "# Question\n",
    "\n",
    "#### 1) Which countries have reported pollution levels in units of \"ppm\"? \n",
    "\n",
    "In case it's useful to see an example query, here's some code from the tutorial:\n",
    "\n",
    "```\n",
    "query = \"\"\"SELECT city\n",
    "            FROM `bigquery-public-data.openaq.global_air_quality`\n",
    "            WHERE country = 'US'\n",
    "        \"\"\"\n",
    "open_aq.query_to_pandas_safe(query)```"
   ]
  },
  {
   "cell_type": "code",
   "execution_count": 2,
   "metadata": {
    "_uuid": "b77e16c9c492ed8e99b7abc042f8a8965bbd26af"
   },
   "outputs": [
    {
     "name": "stdout",
     "output_type": "stream",
     "text": [
      "  country\n",
      "0      US\n",
      "1      US\n",
      "2      US\n",
      "3      US\n",
      "4      BA\n"
     ]
    },
    {
     "data": {
      "application/javascript": [
       "parent.postMessage({\"jupyterEvent\": \"custom.exercise_interaction\", \"data\": {\"outcomeType\": 2, \"failureMessage\": \"You have the wrong set of countries. Check your WHERE clause\", \"interactionType\": 1, \"learnTutorialId\": 78, \"questionId\": \"1_WhichCountries\", \"learnToolsVersion\": \"0.2.12\", \"valueTowardsCompletion\": 0.0, \"exceptionClass\": \"\", \"trace\": \"\"}}, \"*\")"
      ],
      "text/plain": [
       "<IPython.core.display.Javascript object>"
      ]
     },
     "metadata": {},
     "output_type": "display_data"
    },
    {
     "data": {
      "text/markdown": [
       "<span style=\"color:#cc3333\">Incorrect:</span> You have the wrong set of countries. Check your WHERE clause"
      ],
      "text/plain": [
       "Incorrect: You have the wrong set of countries. Check your WHERE clause"
      ]
     },
     "metadata": {},
     "output_type": "display_data"
    }
   ],
   "source": [
    "# Your Code Goes Here\n",
    "first_query = \"\"\"SELECT country\n",
    "                  FROM `bigquery-public-data.openaq.global_air_quality`\n",
    "                  WHERE unit=\"ppm\"\n",
    "        \"\"\"\n",
    "\n",
    "first_results = open_aq.query_to_pandas_safe(first_query)\n",
    "\n",
    "# View top few rows of results\n",
    "print(first_results.head())\n",
    "q_1.check()"
   ]
  },
  {
   "cell_type": "markdown",
   "metadata": {
    "_uuid": "ab414f7034f594a1af1ec6cb8caca79a60f90171"
   },
   "source": [
    "For the solution, uncomment the line below."
   ]
  },
  {
   "cell_type": "code",
   "execution_count": 3,
   "metadata": {
    "_uuid": "207d8c6d3db5e50dc364f0c5cabc4ec2de6b2861"
   },
   "outputs": [
    {
     "data": {
      "application/javascript": [
       "parent.postMessage({\"jupyterEvent\": \"custom.exercise_interaction\", \"data\": {\"interactionType\": 3, \"learnTutorialId\": 78, \"questionId\": \"1_WhichCountries\", \"learnToolsVersion\": \"0.2.12\", \"valueTowardsCompletion\": 0.0, \"failureMessage\": \"\", \"exceptionClass\": \"\", \"trace\": \"\", \"outcomeType\": 4}}, \"*\")"
      ],
      "text/plain": [
       "<IPython.core.display.Javascript object>"
      ]
     },
     "metadata": {},
     "output_type": "display_data"
    },
    {
     "data": {
      "text/markdown": [
       "<span style=\"color:#33cc99\">Solution:</span> \n",
       "```python\n",
       "\n",
       "first_query = \"\"\"SELECT country\n",
       "                  FROM `bigquery-public-data.openaq.global_air_quality`\n",
       "                  WHERE unit = \"ppm\"\n",
       "        \"\"\"\n",
       "\n",
       "# Or to get each country just once, you could use\n",
       "first_query = \"\"\"SELECT DISTINCT country\n",
       "                  FROM `bigquery-public-data.openaq.global_air_quality`\n",
       "                  WHERE unit = \"ppm\"\n",
       "        \"\"\"\n",
       "\n",
       "```"
      ],
      "text/plain": [
       "Solution: \n",
       "```python\n",
       "\n",
       "first_query = \"\"\"SELECT country\n",
       "                  FROM `bigquery-public-data.openaq.global_air_quality`\n",
       "                  WHERE unit = \"ppm\"\n",
       "        \"\"\"\n",
       "\n",
       "# Or to get each country just once, you could use\n",
       "first_query = \"\"\"SELECT DISTINCT country\n",
       "                  FROM `bigquery-public-data.openaq.global_air_quality`\n",
       "                  WHERE unit = \"ppm\"\n",
       "        \"\"\"\n",
       "\n",
       "```"
      ]
     },
     "metadata": {},
     "output_type": "display_data"
    }
   ],
   "source": [
    "q_1.solution()"
   ]
  },
  {
   "cell_type": "markdown",
   "metadata": {
    "_uuid": "b50f46aa3dff5a8a2d0edd8a9dda800970c66aa7"
   },
   "source": [
    "#### 2) Select all columns of the rows where pollution levels were reported to be exactly 0."
   ]
  },
  {
   "cell_type": "code",
   "execution_count": 4,
   "metadata": {
    "_uuid": "13442883b1c0139f3fdb2407d30aa42cd26dd219"
   },
   "outputs": [
    {
     "name": "stdout",
     "output_type": "stream",
     "text": [
      "  city\n",
      "0  007\n",
      "1  KAY\n",
      "2  N/A\n",
      "3  N/A\n",
      "4  N/A\n"
     ]
    }
   ],
   "source": [
    "# Your Code Goes Here\n",
    "\n",
    "zero_pollution_query = \"\"\"SELECT city\n",
    "                            FROM `bigquery-public-data.openaq.global_air_quality`\n",
    "                            WHERE value = 0\n",
    "\"\"\"\n",
    "\n",
    "zero_pollution_results = open_aq.query_to_pandas_safe(zero_pollution_query)\n",
    "\n",
    "print(zero_pollution_results.head())\n",
    "\n",
    "# q_2.check()"
   ]
  },
  {
   "cell_type": "markdown",
   "metadata": {
    "_uuid": "817053339f6a7897576e1a0738de8ebd84b7ec6a"
   },
   "source": [
    "For the solution, uncomment the line below:"
   ]
  },
  {
   "cell_type": "code",
   "execution_count": 5,
   "metadata": {
    "_uuid": "95ba9eebdce8f020fdbfee28c9a4d5e52db9c709"
   },
   "outputs": [
    {
     "data": {
      "application/javascript": [
       "parent.postMessage({\"jupyterEvent\": \"custom.exercise_interaction\", \"data\": {\"interactionType\": 3, \"learnTutorialId\": 78, \"questionId\": \"2_ZeroPollution\", \"learnToolsVersion\": \"0.2.12\", \"valueTowardsCompletion\": 0.0, \"failureMessage\": \"\", \"exceptionClass\": \"\", \"trace\": \"\", \"outcomeType\": 4}}, \"*\")"
      ],
      "text/plain": [
       "<IPython.core.display.Javascript object>"
      ]
     },
     "metadata": {},
     "output_type": "display_data"
    },
    {
     "data": {
      "text/markdown": [
       "<span style=\"color:#33cc99\">Solution:</span> \n",
       "```python\n",
       "\n",
       "zero_pollution_query = \"\"\"SELECT country\n",
       "                           FROM `bigquery-public-data.openaq.global_air_quality`\n",
       "                           WHERE value = 0\n",
       "\"\"\"\n",
       "\n",
       "zero_pollution_results = open_aq.query_to_pandas_safe(zero_pollution_query)\n",
       "\n",
       "```"
      ],
      "text/plain": [
       "Solution: \n",
       "```python\n",
       "\n",
       "zero_pollution_query = \"\"\"SELECT country\n",
       "                           FROM `bigquery-public-data.openaq.global_air_quality`\n",
       "                           WHERE value = 0\n",
       "\"\"\"\n",
       "\n",
       "zero_pollution_results = open_aq.query_to_pandas_safe(zero_pollution_query)\n",
       "\n",
       "```"
      ]
     },
     "metadata": {},
     "output_type": "display_data"
    }
   ],
   "source": [
    "q_2.solution()"
   ]
  },
  {
   "cell_type": "markdown",
   "metadata": {
    "_uuid": "2f58e925b54ba2dcb36c05ffbdd0c2a218d8dc17"
   },
   "source": [
    "That query wasn't too complicated, and it got the data you want. But these **SELECT** queries don't organize data in a way that answers the most interesting questions. For that, we'll need the **GROUP BY** command. \n",
    "\n",
    "If you know how to use `groupby` in Pandas, this is similar. But BigQuery works quickly with far larger datasets.\n",
    "\n",
    "Fortunately, that's next."
   ]
  },
  {
   "cell_type": "markdown",
   "metadata": {
    "_uuid": "0aa796ba49fdad89ca6780954514fb90972cbbe3"
   },
   "source": [
    "# Keep Going\n",
    "**[GROUP BY](https://www.kaggle.com/dansbecker/group-by-having-count)** clauses and their extensions give you the power to pull interesting statistics out of data, rather than receiving it in just its raw format."
   ]
  },
  {
   "cell_type": "markdown",
   "metadata": {
    "_uuid": "d09a49a206862a583ca672c3d5670cd10fdf429a"
   },
   "source": [
    "---\n",
    "**[SQL Micro-Course Home Page](https://www.kaggle.com/learn/SQL)**\n",
    "\n"
   ]
  }
 ],
 "metadata": {
  "kernelspec": {
   "display_name": "Python 3",
   "language": "python",
   "name": "python3"
  },
  "language_info": {
   "codemirror_mode": {
    "name": "ipython",
    "version": 3
   },
   "file_extension": ".py",
   "mimetype": "text/x-python",
   "name": "python",
   "nbconvert_exporter": "python",
   "pygments_lexer": "ipython3",
   "version": "3.6.6"
  }
 },
 "nbformat": 4,
 "nbformat_minor": 1
}
