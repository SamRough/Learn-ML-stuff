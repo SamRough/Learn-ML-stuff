{
 "cells": [
  {
   "cell_type": "markdown",
   "metadata": {
    "_uuid": "dee37143370b44c3b04d6a477af015608c9f02b2"
   },
   "source": [
    "**[SQL Micro-Course Home Page](https://www.kaggle.com/learn/SQL)**\n",
    "\n",
    "---\n"
   ]
  },
  {
   "cell_type": "markdown",
   "metadata": {
    "_uuid": "39fa29be5622319f5b16808cbd9933fb6dfc2532"
   },
   "source": [
    "# Introduction\n",
    "\n",
    "Stack Overflow (stackoverflow.com) is a widely beloved Question and Answer site for technical questions. You'll probably use it yourself as you keep using SQL (or any programming language). \n",
    "\n",
    "Their data is publicly available. What cool things do you think it would be useful for?\n",
    "\n",
    "Here's one idea:\n",
    "You could set up a service that identifies the Stack Overflow users who have demonstrated expertise with a specific technology by answering related questions about it, so someone could hire those experts for in-depth help.\n",
    "\n",
    "In this exercise, you'll write the SQL queries that might serve as the foundation for this type of service.\n",
    "\n",
    "As usual, run the following cell to set up our feedback system before moving on."
   ]
  },
  {
   "cell_type": "code",
   "execution_count": 1,
   "metadata": {
    "_uuid": "1d9c13731442ad19fecc2462cddba0aee5020303"
   },
   "outputs": [
    {
     "name": "stdout",
     "output_type": "stream",
     "text": [
      "Using Kaggle's public dataset BigQuery integration.\n"
     ]
    }
   ],
   "source": [
    "# Set up feedack system\n",
    "from learntools.core import binder\n",
    "binder.bind(globals())\n",
    "from learntools.sql.ex6 import *\n",
    "\n",
    "# import package with helper functions \n",
    "import bq_helper\n",
    "\n",
    "# create a helper object for this dataset\n",
    "stack_overflow = bq_helper.BigQueryHelper(active_project=\"bigquery-public-data\",\n",
    "                                              dataset_name=\"stackoverflow\")"
   ]
  },
  {
   "cell_type": "markdown",
   "metadata": {
    "_uuid": "84440bd1078769e2862d34f5ed028b756c7bd9cf"
   },
   "source": [
    "# Questions\n",
    "\n",
    "# 1) Explore the Data\n",
    "\n",
    "Before writing queries or **JOIN** clauses, you'll want to see what tables are available. \n",
    "\n",
    "This may be a good time to practice **tab completion** for when you don't remember command names. If you type `stack_overflow.` and then hit tab, you will see a list of methods for the `stack_overflow` object (don't forget the dot before hitting tab.)"
   ]
  },
  {
   "cell_type": "code",
   "execution_count": 2,
   "metadata": {
    "_uuid": "e97dc4811d9789092e4075fbb3bf98c212500630"
   },
   "outputs": [
    {
     "name": "stdout",
     "output_type": "stream",
     "text": [
      "['badges', 'comments', 'post_history', 'post_links', 'posts_answers', 'posts_moderator_nomination', 'posts_orphaned_tag_wiki', 'posts_privilege_wiki', 'posts_questions', 'posts_tag_wiki', 'posts_tag_wiki_excerpt', 'posts_wiki_placeholder', 'stackoverflow_posts', 'tags', 'users', 'votes']\n"
     ]
    },
    {
     "data": {
      "application/javascript": [
       "parent.postMessage({\"jupyterEvent\": \"custom.exercise_interaction\", \"data\": {\"outcomeType\": 1, \"valueTowardsCompletion\": 0.25, \"interactionType\": 1, \"learnTutorialId\": 82, \"questionId\": \"1_ListSOTables\", \"learnToolsVersion\": \"0.2.12\", \"failureMessage\": \"\", \"exceptionClass\": \"\", \"trace\": \"\"}}, \"*\")"
      ],
      "text/plain": [
       "<IPython.core.display.Javascript object>"
      ]
     },
     "metadata": {},
     "output_type": "display_data"
    },
    {
     "data": {
      "text/markdown": [
       "<span style=\"color:#33cc33\">Correct</span>"
      ],
      "text/plain": [
       "Correct"
      ]
     },
     "metadata": {},
     "output_type": "display_data"
    }
   ],
   "source": [
    "# Your code here\n",
    "\n",
    "\n",
    "list_of_tables = stack_overflow.list_tables()   # get a list of available tables\n",
    "\n",
    "print(list_of_tables)\n",
    "q_1.check()"
   ]
  },
  {
   "cell_type": "code",
   "execution_count": 3,
   "metadata": {
    "_uuid": "d93ce58e91b7647c58d6dbf800aba007c605d078"
   },
   "outputs": [],
   "source": [
    "# q_1.solution()"
   ]
  },
  {
   "cell_type": "markdown",
   "metadata": {
    "_uuid": "3893563393da3807f9e3a2034a3b3070a7693142"
   },
   "source": [
    "# 2) Review Relevant Tables\n",
    "\n",
    "If you are interested in people who answer questions on a given topic, the `posts_answers` table is a natural place to look. Run the following cell and look at the output."
   ]
  },
  {
   "cell_type": "code",
   "execution_count": 4,
   "metadata": {
    "_uuid": "4be21908ac183749f351a2731fdbc2334312ab2d"
   },
   "outputs": [
    {
     "data": {
      "text/html": [
       "<div>\n",
       "<style scoped>\n",
       "    .dataframe tbody tr th:only-of-type {\n",
       "        vertical-align: middle;\n",
       "    }\n",
       "\n",
       "    .dataframe tbody tr th {\n",
       "        vertical-align: top;\n",
       "    }\n",
       "\n",
       "    .dataframe thead th {\n",
       "        text-align: right;\n",
       "    }\n",
       "</style>\n",
       "<table border=\"1\" class=\"dataframe\">\n",
       "  <thead>\n",
       "    <tr style=\"text-align: right;\">\n",
       "      <th></th>\n",
       "      <th>id</th>\n",
       "      <th>body</th>\n",
       "      <th>comment_count</th>\n",
       "      <th>community_owned_date</th>\n",
       "      <th>creation_date</th>\n",
       "      <th>last_activity_date</th>\n",
       "      <th>last_edit_date</th>\n",
       "      <th>last_editor_display_name</th>\n",
       "      <th>last_editor_user_id</th>\n",
       "      <th>owner_display_name</th>\n",
       "      <th>owner_user_id</th>\n",
       "      <th>parent_id</th>\n",
       "      <th>post_type_id</th>\n",
       "      <th>score</th>\n",
       "      <th>tags</th>\n",
       "    </tr>\n",
       "  </thead>\n",
       "  <tbody>\n",
       "    <tr>\n",
       "      <th>0</th>\n",
       "      <td>4058478</td>\n",
       "      <td>&lt;p&gt;Restart netbeans. I had a similar problem a...</td>\n",
       "      <td>2</td>\n",
       "      <td>None</td>\n",
       "      <td>2010-10-30 11:28:36.983000+00:00</td>\n",
       "      <td>2010-10-30 11:28:36.983000+00:00</td>\n",
       "      <td>None</td>\n",
       "      <td></td>\n",
       "      <td>None</td>\n",
       "      <td></td>\n",
       "      <td>409468.0</td>\n",
       "      <td>4057995</td>\n",
       "      <td>2</td>\n",
       "      <td>1</td>\n",
       "      <td></td>\n",
       "    </tr>\n",
       "    <tr>\n",
       "      <th>1</th>\n",
       "      <td>4187003</td>\n",
       "      <td>&lt;p&gt;All URLs within the page are relative to th...</td>\n",
       "      <td>0</td>\n",
       "      <td>None</td>\n",
       "      <td>2010-11-15 17:16:15.927000+00:00</td>\n",
       "      <td>2010-11-15 17:16:15.927000+00:00</td>\n",
       "      <td>None</td>\n",
       "      <td></td>\n",
       "      <td>None</td>\n",
       "      <td></td>\n",
       "      <td>439213.0</td>\n",
       "      <td>4184800</td>\n",
       "      <td>2</td>\n",
       "      <td>0</td>\n",
       "      <td></td>\n",
       "    </tr>\n",
       "    <tr>\n",
       "      <th>2</th>\n",
       "      <td>8621524</td>\n",
       "      <td>&lt;p&gt;It sounds like responsiveness to the API ca...</td>\n",
       "      <td>0</td>\n",
       "      <td>None</td>\n",
       "      <td>2011-12-23 23:25:45.430000+00:00</td>\n",
       "      <td>2011-12-23 23:25:45.430000+00:00</td>\n",
       "      <td>None</td>\n",
       "      <td></td>\n",
       "      <td>None</td>\n",
       "      <td></td>\n",
       "      <td>1114079.0</td>\n",
       "      <td>8595650</td>\n",
       "      <td>2</td>\n",
       "      <td>1</td>\n",
       "      <td></td>\n",
       "    </tr>\n",
       "    <tr>\n",
       "      <th>3</th>\n",
       "      <td>6553106</td>\n",
       "      <td>&lt;p&gt;Yes. That's the (one of) the points of Hash...</td>\n",
       "      <td>2</td>\n",
       "      <td>None</td>\n",
       "      <td>2011-07-01 20:51:33.830000+00:00</td>\n",
       "      <td>2011-07-01 20:51:33.830000+00:00</td>\n",
       "      <td>None</td>\n",
       "      <td></td>\n",
       "      <td>None</td>\n",
       "      <td></td>\n",
       "      <td>13956.0</td>\n",
       "      <td>6553067</td>\n",
       "      <td>2</td>\n",
       "      <td>0</td>\n",
       "      <td></td>\n",
       "    </tr>\n",
       "    <tr>\n",
       "      <th>4</th>\n",
       "      <td>23032552</td>\n",
       "      <td>&lt;p&gt;I think I found the problem. I changed the ...</td>\n",
       "      <td>0</td>\n",
       "      <td>None</td>\n",
       "      <td>2014-04-12 15:43:59.437000+00:00</td>\n",
       "      <td>2014-04-12 15:43:59.437000+00:00</td>\n",
       "      <td>None</td>\n",
       "      <td></td>\n",
       "      <td>None</td>\n",
       "      <td>user3413108</td>\n",
       "      <td>NaN</td>\n",
       "      <td>22366517</td>\n",
       "      <td>2</td>\n",
       "      <td>3</td>\n",
       "      <td></td>\n",
       "    </tr>\n",
       "  </tbody>\n",
       "</table>\n",
       "</div>"
      ],
      "text/plain": [
       "         id                                               body ...   score tags\n",
       "0   4058478  <p>Restart netbeans. I had a similar problem a... ...       1     \n",
       "1   4187003  <p>All URLs within the page are relative to th... ...       0     \n",
       "2   8621524  <p>It sounds like responsiveness to the API ca... ...       1     \n",
       "3   6553106  <p>Yes. That's the (one of) the points of Hash... ...       0     \n",
       "4  23032552  <p>I think I found the problem. I changed the ... ...       3     \n",
       "\n",
       "[5 rows x 15 columns]"
      ]
     },
     "execution_count": 4,
     "metadata": {},
     "output_type": "execute_result"
    }
   ],
   "source": [
    "stack_overflow.head('posts_answers')"
   ]
  },
  {
   "cell_type": "markdown",
   "metadata": {
    "_uuid": "06e4c359212a579ca0dd0b08f634a47e78b72f29"
   },
   "source": [
    "It isn't clear yet how to the find users who answered questions on any given topic. But `posts_answers` has a `parent_id` column. If you are familiar with the Stack Overflow site, you might figure out that the `parent_id` is the question each post is answering.\n",
    "\n",
    "Look at `posts_questions` using the line below."
   ]
  },
  {
   "cell_type": "code",
   "execution_count": 5,
   "metadata": {
    "_uuid": "0a6a23db297fba9af597af8a7959ccc18fdd7553"
   },
   "outputs": [
    {
     "data": {
      "text/html": [
       "<div>\n",
       "<style scoped>\n",
       "    .dataframe tbody tr th:only-of-type {\n",
       "        vertical-align: middle;\n",
       "    }\n",
       "\n",
       "    .dataframe tbody tr th {\n",
       "        vertical-align: top;\n",
       "    }\n",
       "\n",
       "    .dataframe thead th {\n",
       "        text-align: right;\n",
       "    }\n",
       "</style>\n",
       "<table border=\"1\" class=\"dataframe\">\n",
       "  <thead>\n",
       "    <tr style=\"text-align: right;\">\n",
       "      <th></th>\n",
       "      <th>id</th>\n",
       "      <th>title</th>\n",
       "      <th>body</th>\n",
       "      <th>accepted_answer_id</th>\n",
       "      <th>answer_count</th>\n",
       "      <th>comment_count</th>\n",
       "      <th>community_owned_date</th>\n",
       "      <th>creation_date</th>\n",
       "      <th>favorite_count</th>\n",
       "      <th>last_activity_date</th>\n",
       "      <th>last_edit_date</th>\n",
       "      <th>last_editor_display_name</th>\n",
       "      <th>last_editor_user_id</th>\n",
       "      <th>owner_display_name</th>\n",
       "      <th>owner_user_id</th>\n",
       "      <th>post_type_id</th>\n",
       "      <th>score</th>\n",
       "      <th>tags</th>\n",
       "      <th>view_count</th>\n",
       "    </tr>\n",
       "  </thead>\n",
       "  <tbody>\n",
       "    <tr>\n",
       "      <th>0</th>\n",
       "      <td>23280293</td>\n",
       "      <td>Jasper report data summary</td>\n",
       "      <td>&lt;p&gt;I am trying to create a report to display a...</td>\n",
       "      <td>23373319.0</td>\n",
       "      <td>1</td>\n",
       "      <td>2</td>\n",
       "      <td>None</td>\n",
       "      <td>2014-04-24 21:33:46.787000+00:00</td>\n",
       "      <td>NaN</td>\n",
       "      <td>2014-05-01 13:37:52.027000+00:00</td>\n",
       "      <td>2014-05-01 13:37:52.027000+00:00</td>\n",
       "      <td></td>\n",
       "      <td>321731</td>\n",
       "      <td></td>\n",
       "      <td>1214943</td>\n",
       "      <td>1</td>\n",
       "      <td>0</td>\n",
       "      <td>filter|jasper-reports|summary</td>\n",
       "      <td>266</td>\n",
       "    </tr>\n",
       "    <tr>\n",
       "      <th>1</th>\n",
       "      <td>5787776</td>\n",
       "      <td>A worthy developer-friendly alternative to PayPal</td>\n",
       "      <td>&lt;p&gt;I understand payments are a tricky thing, b...</td>\n",
       "      <td>NaN</td>\n",
       "      <td>8</td>\n",
       "      <td>9</td>\n",
       "      <td>None</td>\n",
       "      <td>2011-04-26 08:28:37.397000+00:00</td>\n",
       "      <td>40.0</td>\n",
       "      <td>2013-03-19 01:57:09.860000+00:00</td>\n",
       "      <td>2013-03-19 01:57:09.860000+00:00</td>\n",
       "      <td></td>\n",
       "      <td>772853</td>\n",
       "      <td></td>\n",
       "      <td>50841</td>\n",
       "      <td>1</td>\n",
       "      <td>95</td>\n",
       "      <td>paypal|payment-gateway|payment|credit-card</td>\n",
       "      <td>10505</td>\n",
       "    </tr>\n",
       "    <tr>\n",
       "      <th>2</th>\n",
       "      <td>51899406</td>\n",
       "      <td>Why does adding a destructor (even empty) brea...</td>\n",
       "      <td>&lt;p&gt;I am making a class to store a reference to...</td>\n",
       "      <td>NaN</td>\n",
       "      <td>1</td>\n",
       "      <td>0</td>\n",
       "      <td>None</td>\n",
       "      <td>2018-08-17 16:17:18.367000+00:00</td>\n",
       "      <td>NaN</td>\n",
       "      <td>2018-08-17 17:08:03.690000+00:00</td>\n",
       "      <td>2018-08-17 17:08:03.690000+00:00</td>\n",
       "      <td></td>\n",
       "      <td>241631</td>\n",
       "      <td></td>\n",
       "      <td>3662349</td>\n",
       "      <td>1</td>\n",
       "      <td>3</td>\n",
       "      <td>c++|c++11|templates|perfect-forwarding</td>\n",
       "      <td>53</td>\n",
       "    </tr>\n",
       "    <tr>\n",
       "      <th>3</th>\n",
       "      <td>29219176</td>\n",
       "      <td>Java Math.pow(x,2.0) vs Math.pow(x,2.0000001) ...</td>\n",
       "      <td>&lt;p&gt;I am trying to compare performance of &lt;code...</td>\n",
       "      <td>29232947.0</td>\n",
       "      <td>1</td>\n",
       "      <td>8</td>\n",
       "      <td>None</td>\n",
       "      <td>2015-03-23 19:55:25.693000+00:00</td>\n",
       "      <td>2.0</td>\n",
       "      <td>2016-07-19 21:48:22.440000+00:00</td>\n",
       "      <td>2016-07-19 21:48:22.440000+00:00</td>\n",
       "      <td></td>\n",
       "      <td>2753863</td>\n",
       "      <td></td>\n",
       "      <td>2739693</td>\n",
       "      <td>1</td>\n",
       "      <td>5</td>\n",
       "      <td>java|performance</td>\n",
       "      <td>427</td>\n",
       "    </tr>\n",
       "    <tr>\n",
       "      <th>4</th>\n",
       "      <td>45545053</td>\n",
       "      <td>rioBufferWrite function Redis updating position</td>\n",
       "      <td>&lt;p&gt;When I am reading the code of &lt;a href=\"http...</td>\n",
       "      <td>NaN</td>\n",
       "      <td>0</td>\n",
       "      <td>6</td>\n",
       "      <td>None</td>\n",
       "      <td>2017-08-07 10:46:21.007000+00:00</td>\n",
       "      <td>NaN</td>\n",
       "      <td>2017-08-07 10:57:45.507000+00:00</td>\n",
       "      <td>2017-08-07 10:57:45.507000+00:00</td>\n",
       "      <td></td>\n",
       "      <td>8051589</td>\n",
       "      <td></td>\n",
       "      <td>7700616</td>\n",
       "      <td>1</td>\n",
       "      <td>1</td>\n",
       "      <td>c|redis</td>\n",
       "      <td>30</td>\n",
       "    </tr>\n",
       "  </tbody>\n",
       "</table>\n",
       "</div>"
      ],
      "text/plain": [
       "         id    ...     view_count\n",
       "0  23280293    ...            266\n",
       "1   5787776    ...          10505\n",
       "2  51899406    ...             53\n",
       "3  29219176    ...            427\n",
       "4  45545053    ...             30\n",
       "\n",
       "[5 rows x 19 columns]"
      ]
     },
     "execution_count": 5,
     "metadata": {},
     "output_type": "execute_result"
    }
   ],
   "source": [
    "stack_overflow.head('posts_questions')"
   ]
  },
  {
   "cell_type": "markdown",
   "metadata": {
    "_uuid": "bdfe5df899358700df685a79e4b85b603b7d2cc0"
   },
   "source": [
    "Are there any fields that identify what topic or technology each question is about?\n",
    "\n",
    "If so, how could you find the user ID\\'s of users who answered questions about a specific topic?\n",
    "\n",
    "Think about it, then check the solution by running the code in the next cell."
   ]
  },
  {
   "cell_type": "code",
   "execution_count": 6,
   "metadata": {
    "_uuid": "7284b40abe0feb4161c5d59dab1cd464b5e152ac"
   },
   "outputs": [
    {
     "data": {
      "application/javascript": [
       "parent.postMessage({\"jupyterEvent\": \"custom.exercise_interaction\", \"data\": {\"interactionType\": 3, \"learnTutorialId\": 82, \"questionId\": \"2_HowToFindExperts\", \"learnToolsVersion\": \"0.2.12\", \"valueTowardsCompletion\": 0.0, \"failureMessage\": \"\", \"exceptionClass\": \"\", \"trace\": \"\", \"outcomeType\": 4}}, \"*\")"
      ],
      "text/plain": [
       "<IPython.core.display.Javascript object>"
      ]
     },
     "metadata": {},
     "output_type": "display_data"
    },
    {
     "data": {
      "text/markdown": [
       "<span style=\"color:#33cc99\">Solution:</span> \n",
       "`posts_questions` has a column called `tags` which lists the topics/technologies each question is about.\n",
       "\n",
       "`posts_answers` has a column called `parent_id` which identifies the id of the question each answer is responding to.\n",
       "`posts_answers` also has an `owner_user_id` column which specifies the user_id that wrote each answer.\n",
       "\n",
       "You can join these two tables to determine the `tags` for each answer.\n",
       "\n",
       "Then select the `owner_user_id` of the answers on the desired tag.\n",
       "\n",
       "This is exactly what you will do over the next few questions.\n"
      ],
      "text/plain": [
       "Solution: \n",
       "`posts_questions` has a column called `tags` which lists the topics/technologies each question is about.\n",
       "\n",
       "`posts_answers` has a column called `parent_id` which identifies the id of the question each answer is responding to.\n",
       "`posts_answers` also has an `owner_user_id` column which specifies the user_id that wrote each answer.\n",
       "\n",
       "You can join these two tables to determine the `tags` for each answer.\n",
       "\n",
       "Then select the `owner_user_id` of the answers on the desired tag.\n",
       "\n",
       "This is exactly what you will do over the next few questions."
      ]
     },
     "metadata": {},
     "output_type": "display_data"
    }
   ],
   "source": [
    "q_2.solution()"
   ]
  },
  {
   "cell_type": "markdown",
   "metadata": {
    "_uuid": "68714846ac478a5408e687fa4ded51539502f69e"
   },
   "source": [
    "# 3 Selecting The Right Questions\n",
    "\n",
    "A lot of this data is text. \n",
    "\n",
    "Here is one last technique you'll learn in this course which you can apply to this text:\n",
    "\n",
    "A **WHERE** clause can limit your results to rows with certain text using the **LIKE** feature. For example, to select just the third row of the `pets` table, we would write\n",
    "\n",
    "`SELECT * FROM PETS WHERE NAME LIKE 'Ripley'`\n",
    "\n",
    "![](https://i.imgur.com/Ef4Puo3.png)\n",
    "\n",
    "You can also use `%` as a \"wildcard\" for any number of characters. So you can get the third row with \n",
    "\n",
    "`SELECT * FROM PETS WHERE NAME LIKE '%ipl%'`\n",
    "\n",
    "Try this yourself.\n",
    "Before finding users who have answered questions, write a query that selects the `id`, `title` and `owner_user_id` from the `posts_questions` table. Restrict the results to rows that contain the word **bigquery** in the `tags` column. Include rows where there is other text in addition to the word `bigquery` (e.g. if a row has a tag `bigquery-sql`, your results should include that too)."
   ]
  },
  {
   "cell_type": "code",
   "execution_count": 7,
   "metadata": {
    "_uuid": "8cb6d45f6e4412b39c7040227bd3f7743d0b3231"
   },
   "outputs": [
    {
     "name": "stdout",
     "output_type": "stream",
     "text": [
      "         id      ...      owner_user_id\n",
      "0  48425334      ...          9258287.0\n",
      "1  29117213      ...          4485642.0\n",
      "2  54081011      ...           837219.0\n",
      "3  50804717      ...          3809616.0\n",
      "4  48407158      ...          9257860.0\n",
      "\n",
      "[5 rows x 3 columns]\n"
     ]
    },
    {
     "data": {
      "application/javascript": [
       "parent.postMessage({\"jupyterEvent\": \"custom.exercise_interaction\", \"data\": {\"outcomeType\": 1, \"valueTowardsCompletion\": 0.25, \"interactionType\": 1, \"learnTutorialId\": 82, \"questionId\": \"3_SelectRightQuestions\", \"learnToolsVersion\": \"0.2.12\", \"failureMessage\": \"\", \"exceptionClass\": \"\", \"trace\": \"\"}}, \"*\")"
      ],
      "text/plain": [
       "<IPython.core.display.Javascript object>"
      ]
     },
     "metadata": {},
     "output_type": "display_data"
    },
    {
     "data": {
      "text/markdown": [
       "<span style=\"color:#33cc33\">Correct</span>"
      ],
      "text/plain": [
       "Correct"
      ]
     },
     "metadata": {},
     "output_type": "display_data"
    }
   ],
   "source": [
    "# Your code here\n",
    "questions_query = \\\n",
    "\"\"\"\n",
    "SELECT id, title, owner_user_id\n",
    "FROM `bigquery-public-data.stackoverflow.posts_questions`\n",
    "WHERE tags LIKE '%bigquery%'\n",
    "\"\"\"\n",
    "\n",
    "questions_results = stack_overflow.query_to_pandas_safe(questions_query, max_gb_scanned=25) # this query reads a lot of data\n",
    "print(questions_results.head())\n",
    "q_3.check()\n"
   ]
  },
  {
   "cell_type": "code",
   "execution_count": 8,
   "metadata": {
    "_uuid": "97beb55a16f7b26f5b24220afded4504c69a53d1"
   },
   "outputs": [
    {
     "data": {
      "application/javascript": [
       "parent.postMessage({\"jupyterEvent\": \"custom.exercise_interaction\", \"data\": {\"interactionType\": 3, \"learnTutorialId\": 82, \"questionId\": \"3_SelectRightQuestions\", \"learnToolsVersion\": \"0.2.12\", \"valueTowardsCompletion\": 0.0, \"failureMessage\": \"\", \"exceptionClass\": \"\", \"trace\": \"\", \"outcomeType\": 4}}, \"*\")"
      ],
      "text/plain": [
       "<IPython.core.display.Javascript object>"
      ]
     },
     "metadata": {},
     "output_type": "display_data"
    },
    {
     "data": {
      "text/markdown": [
       "<span style=\"color:#33cc99\">Solution:</span> \n",
       "```python\n",
       "\n",
       "questions_query = \"\"\"\n",
       "SELECT id, title, owner_user_id\n",
       "FROM `bigquery-public-data.stackoverflow.posts_questions`\n",
       "WHERE tags like '%bigquery%'\n",
       "\"\"\"\n",
       "\n",
       "questions_results=stack_overflow.query_to_pandas_safe(my_query, max_gb_scanned=2)\n",
       "\n",
       "```"
      ],
      "text/plain": [
       "Solution: \n",
       "```python\n",
       "\n",
       "questions_query = \"\"\"\n",
       "SELECT id, title, owner_user_id\n",
       "FROM `bigquery-public-data.stackoverflow.posts_questions`\n",
       "WHERE tags like '%bigquery%'\n",
       "\"\"\"\n",
       "\n",
       "questions_results=stack_overflow.query_to_pandas_safe(my_query, max_gb_scanned=2)\n",
       "\n",
       "```"
      ]
     },
     "metadata": {},
     "output_type": "display_data"
    }
   ],
   "source": [
    "# q_3.hint()\n",
    "q_3.solution()"
   ]
  },
  {
   "cell_type": "markdown",
   "metadata": {
    "_uuid": "b92f8a202b93aedebbddeea94362c1d44d2149c3"
   },
   "source": [
    "# 4 Your First Join\n",
    "Now that you have a query to select questions on any given topic (in this case, you chose `bigquery`), you can find the answers to those questions with a **JOIN**.  \n",
    "\n",
    "Write a SQL query that returns the `id`, `body` and `owner_user_id` from the `posts_answers` table for answers to `bigquery` related questions. That is, you should have one row in your results for each answer to a question that has a `bigquery` in the tag.\n",
    "\n",
    "Here's a reminder of what a **JOIN** looked like in the tutorial\n",
    "```\n",
    "SELECT p.Name AS Pet_Name, o.Name as Owner_Name\n",
    "FROM `bigquery-public-data.pet_records.pets` as p\n",
    "INNER JOIN `bigquery-public-data.pet_records.owners` as o ON p.ID = o.Pet_ID\n",
    "```\n",
    "\n",
    "It may be useful to scroll up and review the results from when you called **head** on `posts_answers` and `posts_questions`.  "
   ]
  },
  {
   "cell_type": "code",
   "execution_count": 9,
   "metadata": {
    "_uuid": "26e795fcee0a8c44844901e04f148fff07f8ba1b"
   },
   "outputs": [
    {
     "name": "stdout",
     "output_type": "stream",
     "text": [
      "         id      ...      owner_user_id\n",
      "0  46939409      ...          5530889.0\n",
      "1  54709605      ...         11067299.0\n",
      "2  28934671      ...            95810.0\n",
      "3  44958476      ...          4538445.0\n",
      "4  29385164      ...          2693816.0\n",
      "\n",
      "[5 rows x 3 columns]\n"
     ]
    },
    {
     "data": {
      "application/javascript": [
       "parent.postMessage({\"jupyterEvent\": \"custom.exercise_interaction\", \"data\": {\"outcomeType\": 1, \"valueTowardsCompletion\": 0.25, \"interactionType\": 1, \"learnTutorialId\": 82, \"questionId\": \"4_FirstJoin\", \"learnToolsVersion\": \"0.2.12\", \"failureMessage\": \"\", \"exceptionClass\": \"\", \"trace\": \"\"}}, \"*\")"
      ],
      "text/plain": [
       "<IPython.core.display.Javascript object>"
      ]
     },
     "metadata": {},
     "output_type": "display_data"
    },
    {
     "data": {
      "text/markdown": [
       "<span style=\"color:#33cc33\">Correct</span>"
      ],
      "text/plain": [
       "Correct"
      ]
     },
     "metadata": {},
     "output_type": "display_data"
    }
   ],
   "source": [
    "from time import time\n",
    "\n",
    "\n",
    "answers_query = \\\n",
    "\"\"\"\n",
    "SELECT a.id AS id, a.body AS body, a.owner_user_id AS owner_user_id\n",
    "FROM `bigquery-public-data.stackoverflow.posts_answers` AS a\n",
    "INNER JOIN `bigquery-public-data.stackoverflow.posts_questions` AS q\n",
    "ON q.id = a.parent_id\n",
    "WHERE q.tags LIKE '%bigquery%'\n",
    "\"\"\"\n",
    "\n",
    "answers_results = stack_overflow.query_to_pandas_safe(answers_query, max_gb_scanned=50) # query scans more than 1GB of data, but less than 2.\n",
    "print(answers_results.head())\n",
    "q_4.check()"
   ]
  },
  {
   "cell_type": "code",
   "execution_count": 10,
   "metadata": {
    "_uuid": "a39f97e5c4a273364e2d2c401ed1a099e7df027b"
   },
   "outputs": [
    {
     "data": {
      "application/javascript": [
       "parent.postMessage({\"jupyterEvent\": \"custom.exercise_interaction\", \"data\": {\"interactionType\": 2, \"learnTutorialId\": 82, \"questionId\": \"4_FirstJoin\", \"learnToolsVersion\": \"0.2.12\", \"valueTowardsCompletion\": 0.0, \"failureMessage\": \"\", \"exceptionClass\": \"\", \"trace\": \"\", \"outcomeType\": 4}}, \"*\")"
      ],
      "text/plain": [
       "<IPython.core.display.Javascript object>"
      ]
     },
     "metadata": {},
     "output_type": "display_data"
    },
    {
     "data": {
      "text/markdown": [
       "<span style=\"color:#3366cc\">Hint:</span> Do an inner JOIN between `bigquery-public-data.stackoverflow.posts_questions` and  `bigquery-public-data.stackoverflow.posts_answers`.\n",
       "\n",
       "    You will want to give both of them aliases. Call `post_questions` q and call `posts_answers` a. The `ON` part of your join is `q.id = a.parent_id`\n",
       "    "
      ],
      "text/plain": [
       "Hint: Do an inner JOIN between `bigquery-public-data.stackoverflow.posts_questions` and  `bigquery-public-data.stackoverflow.posts_answers`.\n",
       "\n",
       "    You will want to give both of them aliases. Call `post_questions` q and call `posts_answers` a. The `ON` part of your join is `q.id = a.parent_id`\n",
       "    "
      ]
     },
     "metadata": {},
     "output_type": "display_data"
    },
    {
     "data": {
      "application/javascript": [
       "parent.postMessage({\"jupyterEvent\": \"custom.exercise_interaction\", \"data\": {\"interactionType\": 3, \"learnTutorialId\": 82, \"questionId\": \"4_FirstJoin\", \"learnToolsVersion\": \"0.2.12\", \"valueTowardsCompletion\": 0.0, \"failureMessage\": \"\", \"exceptionClass\": \"\", \"trace\": \"\", \"outcomeType\": 4}}, \"*\")"
      ],
      "text/plain": [
       "<IPython.core.display.Javascript object>"
      ]
     },
     "metadata": {},
     "output_type": "display_data"
    },
    {
     "data": {
      "text/markdown": [
       "<span style=\"color:#33cc99\">Solution:</span> \n",
       "```python\n",
       "\n",
       "answers_query = \"\"\"\n",
       "SELECT a.id, a.body, a.owner_user_id\n",
       "FROM `bigquery-public-data.stackoverflow.posts_questions` q INNER JOIN `bigquery-public-data.stackoverflow.posts_answers` a\n",
       "     ON q.id = a.parent_id\n",
       "     WHERE q.tags like '%bigquery%'\n",
       "\"\"\"\n",
       "\n",
       "```"
      ],
      "text/plain": [
       "Solution: \n",
       "```python\n",
       "\n",
       "answers_query = \"\"\"\n",
       "SELECT a.id, a.body, a.owner_user_id\n",
       "FROM `bigquery-public-data.stackoverflow.posts_questions` q INNER JOIN `bigquery-public-data.stackoverflow.posts_answers` a\n",
       "     ON q.id = a.parent_id\n",
       "     WHERE q.tags like '%bigquery%'\n",
       "\"\"\"\n",
       "\n",
       "```"
      ]
     },
     "metadata": {},
     "output_type": "display_data"
    }
   ],
   "source": [
    "q_4.hint()\n",
    "q_4.solution()"
   ]
  },
  {
   "cell_type": "markdown",
   "metadata": {
    "_uuid": "0788f2897b4daa806c4527c9e68b45d1b3e4e2a6"
   },
   "source": [
    "# 5 Answer The Question\n",
    "You have the merge you need. But you want a list of users who have answered many questions... which requires more work beyond your previous result.\n",
    "\n",
    "Write a new query that selects data from the `posts_questions` and `posts_answers` tables. The results should have a single row for each user who answered at least one questions with a tag that includes the string `bigquery`. Each row in your results should have two columns:\n",
    "- a column called `user_id` that contains the `owner_user_id` from the `posts_answers` table\n",
    "- a column called `number_of_answers` that contains the number of answers the user has written to `bigquery` questions"
   ]
  },
  {
   "cell_type": "code",
   "execution_count": 11,
   "metadata": {
    "_uuid": "1cdb9109d820c1b2d3bbea38498cd72c405ba658"
   },
   "outputs": [
    {
     "name": "stdout",
     "output_type": "stream",
     "text": [
      "         user_id  number_of_answers\n",
      "0      5221944.0               2172\n",
      "1      6253347.0                661\n",
      "2       132438.0                636\n",
      "3      1366527.0                616\n",
      "4       243782.0                444\n",
      "5      1144035.0                360\n",
      "6      4490873.0                263\n",
      "7      2877278.0                243\n",
      "8      1002277.0                232\n",
      "9      1375400.0                147\n",
      "10      336505.0                122\n",
      "11     4001094.0                 93\n",
      "12     1371484.0                 88\n",
      "13     6532822.0                 74\n",
      "14     2881671.0                 59\n",
      "15     5071793.0                 50\n",
      "16      212435.0                 50\n",
      "17     4482491.0                 49\n",
      "18     1863229.0                 45\n",
      "19     5499542.0                 43\n",
      "20     2417948.0                 43\n",
      "21     5239549.0                 39\n",
      "22     4538445.0                 38\n",
      "23     8995639.0                 37\n",
      "24     1031958.0                 34\n",
      "25     5880234.0                 33\n",
      "26      278042.0                 33\n",
      "27     9384667.0                 32\n",
      "28      101923.0                 31\n",
      "29     8974140.0                 30\n",
      "...          ...                ...\n",
      "2517   8952827.0                  1\n",
      "2518   8213464.0                  1\n",
      "2519   9995226.0                  1\n",
      "2520    133864.0                  1\n",
      "2521   8380198.0                  1\n",
      "2522   5618846.0                  1\n",
      "2523    471324.0                  1\n",
      "2524    107744.0                  1\n",
      "2525    222467.0                  1\n",
      "2526   9742214.0                  1\n",
      "2527   6948235.0                  1\n",
      "2528   1975000.0                  1\n",
      "2529   7034312.0                  1\n",
      "2530   2259281.0                  1\n",
      "2531   1275283.0                  1\n",
      "2532   1533615.0                  1\n",
      "2533   1170677.0                  1\n",
      "2534   2088243.0                  1\n",
      "2535   3321334.0                  1\n",
      "2536   6824505.0                  1\n",
      "2537   9227137.0                  1\n",
      "2538   4999519.0                  1\n",
      "2539  10021181.0                  1\n",
      "2540   7698195.0                  1\n",
      "2541   4730628.0                  1\n",
      "2542    201657.0                  1\n",
      "2543   8770588.0                  1\n",
      "2544   1399860.0                  1\n",
      "2545   5826609.0                  1\n",
      "2546   4905036.0                  1\n",
      "\n",
      "[2547 rows x 2 columns]\n"
     ]
    },
    {
     "data": {
      "application/javascript": [
       "parent.postMessage({\"jupyterEvent\": \"custom.exercise_interaction\", \"data\": {\"outcomeType\": 1, \"valueTowardsCompletion\": 0.25, \"interactionType\": 1, \"learnTutorialId\": 82, \"questionId\": \"5_BigQueryExperts\", \"learnToolsVersion\": \"0.2.12\", \"failureMessage\": \"\", \"exceptionClass\": \"\", \"trace\": \"\"}}, \"*\")"
      ],
      "text/plain": [
       "<IPython.core.display.Javascript object>"
      ]
     },
     "metadata": {},
     "output_type": "display_data"
    },
    {
     "data": {
      "text/markdown": [
       "<span style=\"color:#33cc33\">Correct</span>"
      ],
      "text/plain": [
       "Correct"
      ]
     },
     "metadata": {},
     "output_type": "display_data"
    }
   ],
   "source": [
    "# your code here\n",
    "bigquery_experts_query = \"\"\"\n",
    "SELECT a.owner_user_id AS user_id, COUNT(1) AS number_of_answers\n",
    "FROM `bigquery-public-data.stackoverflow.posts_answers` AS a\n",
    "INNER JOIN `bigquery-public-data.stackoverflow.posts_questions` q\n",
    "ON q.id = a.parent_id\n",
    "WHERE q.tags like '%bigquery%'\n",
    "GROUP BY a.owner_user_id\n",
    "ORDER BY number_of_answers DESC\n",
    "\"\"\"\n",
    "bigquery_experts_results = stack_overflow.query_to_pandas_safe(bigquery_experts_query, max_gb_scanned=50)\n",
    "\n",
    "print(bigquery_experts_results)\n",
    "q_5.check()"
   ]
  },
  {
   "cell_type": "code",
   "execution_count": 12,
   "metadata": {
    "_uuid": "96c099893bdb8a20cc036e592633193f9213c163"
   },
   "outputs": [
    {
     "data": {
      "application/javascript": [
       "parent.postMessage({\"jupyterEvent\": \"custom.exercise_interaction\", \"data\": {\"interactionType\": 3, \"learnTutorialId\": 82, \"questionId\": \"5_BigQueryExperts\", \"learnToolsVersion\": \"0.2.12\", \"valueTowardsCompletion\": 0.0, \"failureMessage\": \"\", \"exceptionClass\": \"\", \"trace\": \"\", \"outcomeType\": 4}}, \"*\")"
      ],
      "text/plain": [
       "<IPython.core.display.Javascript object>"
      ]
     },
     "metadata": {},
     "output_type": "display_data"
    },
    {
     "data": {
      "text/markdown": [
       "<span style=\"color:#33cc99\">Solution:</span> \n",
       "```python\n",
       "\n",
       "bigquery_experts_query = \"\"\"SELECT a.owner_user_id AS user_id, COUNT(1) number_of_answers\n",
       "                  FROM `bigquery-public-data.stackoverflow.posts_questions` q\n",
       "                        INNER JOIN `bigquery-public-data.stackoverflow.posts_answers` a\n",
       "                        ON q.id = a.parent_Id\n",
       "                  WHERE q.tags like '%bigquery%'\n",
       "                  GROUP BY a.owner_user_id\"\"\"\n",
       "\n",
       "bigquery_experts_results = stack_overflow.query_to_pandas_safe(bigquery_experts_query, max_gb_scanned=2)\n",
       "\n",
       "```"
      ],
      "text/plain": [
       "Solution: \n",
       "```python\n",
       "\n",
       "bigquery_experts_query = \"\"\"SELECT a.owner_user_id AS user_id, COUNT(1) number_of_answers\n",
       "                  FROM `bigquery-public-data.stackoverflow.posts_questions` q\n",
       "                        INNER JOIN `bigquery-public-data.stackoverflow.posts_answers` a\n",
       "                        ON q.id = a.parent_Id\n",
       "                  WHERE q.tags like '%bigquery%'\n",
       "                  GROUP BY a.owner_user_id\"\"\"\n",
       "\n",
       "bigquery_experts_results = stack_overflow.query_to_pandas_safe(bigquery_experts_query, max_gb_scanned=2)\n",
       "\n",
       "```"
      ]
     },
     "metadata": {},
     "output_type": "display_data"
    }
   ],
   "source": [
    "# q_5.hint()\n",
    "q_5.solution()"
   ]
  },
  {
   "cell_type": "markdown",
   "metadata": {
    "_uuid": "1c05cff629b37d85d5cdd9e9763244468d5dfe02"
   },
   "source": [
    "# Building A More Generally Useful Service\n",
    "\n",
    "How could you convert what you've done so it's a general function a website could call on the backend to get experts on any topic?  \n",
    "\n",
    "Think about it and then check the solution below."
   ]
  },
  {
   "cell_type": "code",
   "execution_count": 13,
   "metadata": {
    "_uuid": "620f847b34e9ff27f16bb8597ab0e40b67033004"
   },
   "outputs": [
    {
     "data": {
      "application/javascript": [
       "parent.postMessage({\"jupyterEvent\": \"custom.exercise_interaction\", \"data\": {\"interactionType\": 3, \"learnTutorialId\": 82, \"questionId\": \"6_GeneralizeExpertFinder\", \"learnToolsVersion\": \"0.2.12\", \"valueTowardsCompletion\": 0.0, \"failureMessage\": \"\", \"exceptionClass\": \"\", \"trace\": \"\", \"outcomeType\": 4}}, \"*\")"
      ],
      "text/plain": [
       "<IPython.core.display.Javascript object>"
      ]
     },
     "metadata": {},
     "output_type": "display_data"
    },
    {
     "data": {
      "text/markdown": [
       "<span style=\"color:#33cc99\">Solution:</span> \n",
       "```python\n",
       "\n",
       "def expert_finder(topic, stack_overflow_helper):\n",
       "    '''\n",
       "    Returns a DataFrame with the user_id's who have written stackoverflow answers on topic.\n",
       "\n",
       "    Inputs:\n",
       "        topic: A string with the topic we are interested\n",
       "        stack_overflow_helper: A bigquery_helper object that specifies the connection to the stack overflow DB\n",
       "\n",
       "    Outputs:\n",
       "        results: A DataFrame with columns for user_id and number_of_answers. Follows similar logic to bigquery_experts_results shown above.\n",
       "    '''\n",
       "    my_query = \"\"\"SELECT a.owner_user_id AS user_id, COUNT(1) AS number_of_answers\n",
       "                  FROM `bigquery-public-data.stackoverflow.posts_questions` q\n",
       "                        INNER JOIN `bigquery-public-data.stackoverflow.posts_answers` a\n",
       "                        ON q.id = a.parent_Id\n",
       "                  WHERE q.tags like '%' + tag + '%'\n",
       "                  GROUP BY a.owner_user_id\n",
       "                \"\"\"\n",
       "    # a real service would have good error handling for queries that scan too much data\n",
       "    my_results = stack_overflow_helper.query_to_pandas_safe(my_query, max_gb_scanned=2)\n",
       "    return my_results\n",
       "\n",
       "```"
      ],
      "text/plain": [
       "Solution: \n",
       "```python\n",
       "\n",
       "def expert_finder(topic, stack_overflow_helper):\n",
       "    '''\n",
       "    Returns a DataFrame with the user_id's who have written stackoverflow answers on topic.\n",
       "\n",
       "    Inputs:\n",
       "        topic: A string with the topic we are interested\n",
       "        stack_overflow_helper: A bigquery_helper object that specifies the connection to the stack overflow DB\n",
       "\n",
       "    Outputs:\n",
       "        results: A DataFrame with columns for user_id and number_of_answers. Follows similar logic to bigquery_experts_results shown above.\n",
       "    '''\n",
       "    my_query = \"\"\"SELECT a.owner_user_id AS user_id, COUNT(1) AS number_of_answers\n",
       "                  FROM `bigquery-public-data.stackoverflow.posts_questions` q\n",
       "                        INNER JOIN `bigquery-public-data.stackoverflow.posts_answers` a\n",
       "                        ON q.id = a.parent_Id\n",
       "                  WHERE q.tags like '%' + tag + '%'\n",
       "                  GROUP BY a.owner_user_id\n",
       "                \"\"\"\n",
       "    # a real service would have good error handling for queries that scan too much data\n",
       "    my_results = stack_overflow_helper.query_to_pandas_safe(my_query, max_gb_scanned=2)\n",
       "    return my_results\n",
       "\n",
       "```"
      ]
     },
     "metadata": {},
     "output_type": "display_data"
    }
   ],
   "source": [
    "q_6.solution()"
   ]
  },
  {
   "cell_type": "markdown",
   "metadata": {
    "_uuid": "b669e95637a8afdafff5785b24de7f4eb7d05a90"
   },
   "source": [
    "# Congratulations\n",
    "You know all the key components to use BigQuery and SQL effectively. Your SQL skills are sufficient to unlock many of the world's large datasets.\n",
    "\n",
    "Want to go play with your new powers?  Kaggle has BigQuery datasets available [here](https://www.kaggle.com/datasets?sortBy=hottest&group=public&page=1&pageSize=20&size=sizeAll&filetype=fileTypeBigQuery).\n",
    "\n",
    "# Feedback\n",
    "Bring any questions or feedback to the [Learn Discussion Forum](https://www.kaggle.com/learn-forum).\n"
   ]
  },
  {
   "cell_type": "markdown",
   "metadata": {
    "_uuid": "23a68e205ede1a75614ce030426635636964e916"
   },
   "source": [
    "---\n",
    "**[SQL Micro-Course Home Page](https://www.kaggle.com/learn/SQL)**\n",
    "\n"
   ]
  }
 ],
 "metadata": {
  "kernelspec": {
   "display_name": "Python 3",
   "language": "python",
   "name": "python3"
  },
  "language_info": {
   "codemirror_mode": {
    "name": "ipython",
    "version": 3
   },
   "file_extension": ".py",
   "mimetype": "text/x-python",
   "name": "python",
   "nbconvert_exporter": "python",
   "pygments_lexer": "ipython3",
   "version": "3.6.6"
  }
 },
 "nbformat": 4,
 "nbformat_minor": 1
}
